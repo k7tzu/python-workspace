{
 "cells": [
  {
   "cell_type": "markdown",
   "metadata": {},
   "source": [
    "**Terminale NSI**\n",
    "<div class=\"bg-info\"><h1>Chapitre 4 - Les piles</h1></div>"
   ]
  },
  {
   "cell_type": "markdown",
   "metadata": {},
   "source": [
    "## Les piles  \n",
    "En informatique, une **pile** (en anglais **stack**) est une structure de données abstraite fondée sur le principe «dernier arrivé, premier sorti» (ou **LIFO** pour Last In, First Out), ce qui veut dire que les derniers éléments ajoutés à la pile seront les premiers à être récupérés.  \n",
    "Le fonctionnement est donc celui d’une pile d’assiettes : on ajoute des assiettes sur la pile, et on les récupère dans l’ordre inverse, en commençant par la dernière ajoutée.  \n",
    "<img src=\"img/assiettes.png\" width=500>  \n",
    "\n",
    "Voici quelques exemples d’usage courant d’une pile :  \n",
    "- Dans un navigateur web, une pile sert à mémoriser les pages Web visitées. L’adresse de chaque nouvelle page visitée est empilée et l’utilisateur dépile l’adresse de la page précédente en cliquant le bouton «Afficher la page précédente».  \n",
    "- L’évaluation des expressions mathématiques en notation post-fixée (ou polonaise inverse) utilise une pile.  \n",
    "- La fonction «Annuler la frappe» (en anglais «Undo») d’un traitement de texte mémorise les modifications apportées au texte dans une pile.  \n",
    "\n",
    "## Interface  \n",
    "Pour implémenter une structure de pile, on a besoin d’un nombre réduit d’opérations de bases :\n",
    "- «**empiler**» : ajoute un élément sur la pile. Terme anglais correspondant : «**Push**».  \n",
    "- «**dépiler**» : enlève un élément de la pile et le renvoie. En anglais : «**Pop**».  \n",
    "- «**vide**» : renvoie vrai si la pile est vide, faux sinon.\n",
    "- «**remplissage**» : renvoie le nombre d’éléments dans la pile.  \n",
    "\n",
    "**Exemple**\n",
    "<img src=\"img/exemple.png\" width=600>"
   ]
  },
  {
   "cell_type": "markdown",
   "metadata": {},
   "source": [
    "## Une 1ère implémentation \n",
    "Nous utiliserons une simple liste pour représenter la pile.  \n",
    "Le type `list` de Python possède déjà toutes les méthodes d’une pile.  \n",
    "Il se trouve que les méthodes `append` et `pop` sur les listes jouent déjà le rôle de push et pop sur les piles.  \n",
    "La méthode `.pop()` a deux effets : elle modifie la pile en retirant le dernier élément et elle renvoie la valeur du dernier élément.  \n",
    "Ici, le sommet de la pile est le dernier élément.  \n",
    "<img src=\"img/listPython.png\" width=500>  \n",
    "\n",
    "Voici les fonctions de base :"
   ]
  },
  {
   "cell_type": "code",
   "execution_count": 2,
   "metadata": {},
   "outputs": [],
   "source": [
    "def pile():\n",
    "    \"\"\"retourne une liste vide\"\"\" \n",
    "    return []\n",
    "\n",
    "def estVide(p):\n",
    "    \"\"\"renvoie True si la pile est vide et False sinon\"\"\"\n",
    "    return p == []\n",
    "\n",
    "def empiler(p, x):\n",
    "    \"\"\"Ajoute l’élément x à la pile p\"\"\"\n",
    "    p.append(x)\n",
    "\n",
    "def depiler(p):\n",
    "    \"\"\"dépile et renvoie l’élément au sommet de la pile p\"\"\"\n",
    "    assert not estVide(p), \"Pile vide\"\n",
    "    return p.pop()"
   ]
  },
  {
   "cell_type": "markdown",
   "metadata": {},
   "source": [
    "### Exercice 1\n",
    "Tester les instructions suivantes :\n",
    "```Python\n",
    "p = pile()\n",
    "for i in range(5):\n",
    "    empiler(p, 2*i)\n",
    "a = depiler(p)\n",
    "print(a)\n",
    "print(estVide(p))\n",
    "```"
   ]
  },
  {
   "cell_type": "code",
   "execution_count": 3,
   "metadata": {},
   "outputs": [
    {
     "name": "stdout",
     "output_type": "stream",
     "text": [
      "8\n",
      "False\n"
     ]
    }
   ],
   "source": [
    "p = pile()\n",
    "for i in range(5):\n",
    "    empiler(p, 2*i)\n",
    "a = depiler(p)\n",
    "print(a)\n",
    "print(estVide(p))"
   ]
  },
  {
   "cell_type": "markdown",
   "metadata": {},
   "source": [
    "### Exercice 2\n",
    "Créer les fonctions `taille(p)` et `sommet(p)` qui retourne respectivement la taille de la liste et le sommet de la liste (sans le supprimer)."
   ]
  },
  {
   "cell_type": "code",
   "execution_count": 10,
   "metadata": {},
   "outputs": [
    {
     "name": "stdout",
     "output_type": "stream",
     "text": [
      "4\n",
      "6\n"
     ]
    }
   ],
   "source": [
    "def taille(p):\n",
    "    return len(p)\n",
    "\n",
    "def sommet(p):\n",
    "    return p[-1]\n",
    "\n",
    "print(taille(p))\n",
    "print(sommet(p))"
   ]
  },
  {
   "cell_type": "markdown",
   "metadata": {},
   "source": [
    "## Une 2ème implémentation \n",
    "Nous allons créer une classe `Pile` pour implémenter cette structure."
   ]
  },
  {
   "cell_type": "code",
   "execution_count": 11,
   "metadata": {},
   "outputs": [],
   "source": [
    "class Pile:\n",
    "    '''classe Pile\n",
    "    création d’une instance Pile avec une liste'''\n",
    "    def __init__(self):\n",
    "        '''Initialisation d’une pile vide'''\n",
    "        self.L = []\n",
    "    def estVide(self):\n",
    "        '''teste si la pile est vide'''\n",
    "        return self.L == []\n",
    "    def depiler(self): \n",
    "        '''dépile'''\n",
    "        assert not self.estVide(),\"Pile vide\" \n",
    "        return self.L.pop()\n",
    "    def empiler(self, x): \n",
    "        '''empile'''\n",
    "        self.L.append(x)"
   ]
  },
  {
   "cell_type": "markdown",
   "metadata": {},
   "source": [
    "### Exercice 3\n",
    "Tester les instructions suivantes :\n",
    "```Python\n",
    "p = Pile()\n",
    "for i in range(5):\n",
    "    p.empiler(2∗i)\n",
    "print(p.L)\n",
    "a=p.depiler()\n",
    "print(a)\n",
    "print(p.L)\n",
    "print(p.vide())\n",
    "```"
   ]
  },
  {
   "cell_type": "code",
   "execution_count": null,
   "metadata": {},
   "outputs": [],
   "source": []
  },
  {
   "cell_type": "markdown",
   "metadata": {},
   "source": [
    "### Exercice 4  \n",
    "Créer les méthodes `taille(self)` et `sommet(self)` qui retournent respectivement la taille de la liste et le sommet de la liste (sans le supprimer).  "
   ]
  },
  {
   "cell_type": "code",
   "execution_count": null,
   "metadata": {},
   "outputs": [],
   "source": []
  },
  {
   "cell_type": "markdown",
   "metadata": {},
   "source": [
    "### Exercice 5  (contrôle du parenthésage d'une expression)\n",
    "Il s’agit d’écrire une fonction `bonnes_parentheses(s)` qui contrôle si une expression mathématique `s`, donnée sous forme d’une chaîne de caractères, est bien parenthésée, c’est-à-dire s’il y a autant de parenthèses ouvrantes que de fermantes, et qu’elles sont bien placées.    \n",
    "Par exemple :  \n",
    "(..(..)..) est bien parenthésée   \n",
    "(...(..(..)...) ne l’est pas  \n",
    "\n",
    "**L’algorithme** :  \n",
    "On crée une pile.  \n",
    "On parcourt l’expression de gauche à droite.  \n",
    "À chaque fois que l’on rencontre une parenthèse ouvrante \"(\" on l’empile.  \n",
    "Si on rencontre une parenthèse fermante \")\" et que la pile n’est pas vide on dépile \"(\" sinon on retourne faux.  \n",
    "À la fin la pile doit être vide...  "
   ]
  },
  {
   "cell_type": "code",
   "execution_count": 12,
   "metadata": {},
   "outputs": [
    {
     "name": "stdout",
     "output_type": "stream",
     "text": [
      "True\n",
      "False\n"
     ]
    }
   ],
   "source": [
    "def bonnes_parentheses(s):\n",
    "    pile = []\n",
    "    for elt in s:\n",
    "        if elt == \"(\":\n",
    "            pile.append(elt)\n",
    "        elif elt == \")\":\n",
    "            if pile:\n",
    "                pile.pop()\n",
    "            else:\n",
    "                return False\n",
    "    return len(pile) == 0\n",
    "\n",
    "print(bonnes_parentheses(\"(..(..)..)\"))  # Should return True (well-parenthesized)\n",
    "print(bonnes_parentheses(\"(...(..(..)...\"))"
   ]
  }
 ],
 "metadata": {
  "kernelspec": {
   "display_name": "Python 3",
   "language": "python",
   "name": "python3"
  },
  "language_info": {
   "codemirror_mode": {
    "name": "ipython",
    "version": 3
   },
   "file_extension": ".py",
   "mimetype": "text/x-python",
   "name": "python",
   "nbconvert_exporter": "python",
   "pygments_lexer": "ipython3",
   "version": "3.13.0"
  }
 },
 "nbformat": 4,
 "nbformat_minor": 4
}
