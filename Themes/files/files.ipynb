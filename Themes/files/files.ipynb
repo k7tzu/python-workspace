{
 "cells": [
  {
   "cell_type": "markdown",
   "metadata": {},
   "source": [
    "**Terminale NSI**\n",
    "<div class=\"bg-info\"><h1>Chapitre 5 - Les files</h1></div>"
   ]
  },
  {
   "cell_type": "markdown",
   "metadata": {},
   "source": [
    "## Les files  \n",
    "En informatique, une **file** (**queue** en anglais) est une structure de données abstraite basée sur le principe «Premier entré, premier sorti», en anglais **FIFO** (First In, First Out), ce qui veut dire que les premiers éléments ajoutés à la file seront les premiers à être récupérés.  \n",
    "Le fonctionnement ressemble à une **file d’attente** : les premières personnes à arriver sont les premières personnes à sortir de la file.  \n",
    "<img src=\"img/attente.png\" width=500> \n",
    "\n",
    "Voici quelques exemples d’usage courant d’une file:\n",
    "- En général,on utilise des files pour mémoriser temporairement  des transactions qui doivent attendre pour être traitées.  \n",
    "- Les serveurs d’impression, qui doivent traiter les requêtes dans l’ordre dans lequel elles arrivent, et les insèrent dans une file d’attente (ou une queue).  \n",
    "- Certains moteurs multitâches, dans un système d’exploitation, qui doivent accorder du temps-machine à chaque tâche, sans en privilégier aucune.\n",
    "\n",
    "## Interface  \n",
    "Pour implémenter une structure de file, on a besoin d’un nombre réduit d’opérations de bases :\n",
    "- \"**enfiler**\" : ajoute un élément dans la file. Terme anglais correspondant : \"**put**\" (ou \"**enqueue**\").  \n",
    "- \"**défiler**\" : renvoie le prochain élément de la file, et le retire de la file. Terme anglais correspondant : \"**get**\" (ou \"**dequeue**\").  \n",
    "- \"**vide**\" : renvoie vrai si la file est vide, faux sinon.\n",
    "- \"**remplissage**\" : renvoie le nombre d’éléments dans la file."
   ]
  },
  {
   "cell_type": "markdown",
   "metadata": {},
   "source": [
    "## Une 1ère implémentation \n",
    "Nous utiliserons une simple liste pour représenter la file.  \n",
    "Là encore nous utiliserons `append(x)` et `pop(0)` pour réaliser les méthodes \"enfiler\" et \"défiler\".  "
   ]
  },
  {
   "cell_type": "code",
   "execution_count": 4,
   "metadata": {},
   "outputs": [],
   "source": [
    "def file():\n",
    "    #retourne une file vide\n",
    "    return []\n",
    "def estVide(f):\n",
    "    '''renvoie True si la file est vide False sinon'''\n",
    "    return f==[]\n",
    "def enfiler(f,x):\n",
    "    '''ajoute x à la file f'''\n",
    "    return f.append(x)\n",
    "def defiler(f):\n",
    "    '''enlève et renvoie le premier élément de la file'''\n",
    "    assert not estVide(f), \"file vide\"\n",
    "    return f.pop(0)"
   ]
  },
  {
   "cell_type": "markdown",
   "metadata": {},
   "source": [
    "Tester les instructions suivantes :\n",
    "```Python\n",
    "f=file()\n",
    "for i in range(5):\n",
    "    enfiler(f,2∗i)\n",
    "print(f)\n",
    "a=defiler(f)\n",
    "print(a)\n",
    "print(f)\n",
    "print(estVide())\n",
    "```  \n",
    "Définir ensuite les fonctions `taille(f)` et `sommet(f)` qui retournent respectivement la taille de la file et le sommet de la file(le premier à sortir..) sans le supprimer. "
   ]
  },
  {
   "cell_type": "code",
   "execution_count": null,
   "metadata": {},
   "outputs": [],
   "source": []
  },
  {
   "cell_type": "markdown",
   "metadata": {},
   "source": [
    "## Une 2ème implémentation \n",
    "Nous allons créer une classe `File` pour implémenter cette structure.   \n",
    "En vous inspirant de ce que l’on a vu pour la classe `Pile()`, réaliser cette implémentation. \n",
    "```Python  \n",
    "class File :\n",
    "    \"\"\"classe File\n",
    "       création d’une instance File avec une liste \"\"\"\n",
    "    def __init__(self):\n",
    "        \"\"\"Initialisation d’une file vide\"\"\"\n",
    "\n",
    "    def estVide(self):\n",
    "        \"\"\"teste si la file est vide\"\"\"\n",
    "\n",
    "    def defiler(self): \n",
    "        \"\"\"défile\"\"\"\n",
    "\n",
    "    def enfiler(self,x):\n",
    "        \"\"\"enfile x\"\"\"\n",
    "        \n",
    "    def taille(self): \n",
    "        \"\"\"retourne le nombre d'éléments de la file\"\"\"\n",
    "\n",
    "    def sommet(self):\n",
    "        \"\"\"retourne le sommet de la file sans le supprimer\"\"\"        \n",
    "        \n",
    "    def __str__(self):\n",
    "        \"\"\"affiche la file\"\"\"\n",
    "      \n",
    "```  \n",
    "Écrire ensuite les instructions permettant de :  \n",
    "- créer une file  \n",
    "- la remplir avec les entiers 0,2,4,6,8  \n",
    "- la faire afficher  \n",
    "- \"défiler\" la file en faisant afficher l’élément récupéré  "
   ]
  },
  {
   "cell_type": "code",
   "execution_count": null,
   "metadata": {},
   "outputs": [],
   "source": []
  },
  {
   "cell_type": "markdown",
   "metadata": {},
   "source": [
    "## Réaliser une file avec deux piles\n",
    "Une réalisation radicalement différente de cette même structure de file consiste à utiliser deux piles.  \n",
    "On prend pour cela modèle sur un jeu de cartes où l'on disposerait d'une pioche, au sommet de laquelle on prend des cartes (disposées face cachée), et d'une défausse, au sommet de laquelle on en repose (disposées face visible).  \n",
    "Chacun de ces deux paquets de cartes est une pile, et ces deux paquets forment ensemble la réserve de cartes. On a ensuite la discipline suivante :  \n",
    "- toute carte prise dans la réserve est retirée dans l'une de ces piles (la pioche),  \n",
    "- toute carte remise dans la réserve est ajoutée à l'autre pile (la défausse).  \n",
    "S'ajoute un mécanisme liant les deux paquets : une fois la pioche vide on retourne la défausse pour en faire une nouvelle pioche, laissant à la place une défausse vide.  \n",
    "Cette gestion des cartes correspond à une structure de file : une fois la pioche initiale vidée, les cartes seront piochées précisément dans l'ordre dans lequel elles ont été défaussées. La première défaussée sera la première piochée (FIFO).  \n",
    "\n",
    "On va définir une nouvelle version de la **classe `File`** utilisant ce principe.  \n",
    "Une file réalisée ainsi est caractérisée par **deux attributs `entree` et `sortie`**, le premier contenant une **pile** dans laquelle on ajoute les nouveaux éléments et le second une **pile** d'où l'on prend les éléments retirés.\n",
    "Une file est **vide** lorsque ces deux piles sont toutes deux vides.  \n",
    "**Ajouter un nouvel élément** consiste simplement à empiler cet élément sur la pile d'entrée.  \n",
    "**Retirer un élément** est l'opération la plus délicate...  \n",
    "A vous de faire."
   ]
  },
  {
   "cell_type": "code",
   "execution_count": null,
   "metadata": {},
   "outputs": [],
   "source": []
  },
  {
   "cell_type": "markdown",
   "metadata": {},
   "source": [
    "## Utiliser la classe `deque` dans le module `collections`\n",
    "Dans le module `collections`, on trouve la classe `deque` spécialement conçue pour ajouter et extraire des éléments à droite et à gauche, de façon plus efficace qu’avec une liste.\n",
    "On pourra consulter la documentation officielle Python :  \n",
    "https://docs.python.org/fr/3/library/collections.html"
   ]
  },
  {
   "cell_type": "code",
   "execution_count": 1,
   "metadata": {},
   "outputs": [],
   "source": [
    "from collections import deque\n",
    "def retire(c):\n",
    "    return c.pop()\n",
    "\n",
    "# consultation du dernier élément de la collection\n",
    "# qui sera celle rendue par le prochain appel à retire\n",
    "def consulte(c):\n",
    "    return list(c)[-1]\n",
    "    \n",
    "def ajoutFile(s,c):\n",
    "    c.appendleft(s)\n",
    "\n",
    "def ajoutPile(s,c):\n",
    "    c.append(s)"
   ]
  },
  {
   "cell_type": "code",
   "execution_count": 2,
   "metadata": {},
   "outputs": [
    {
     "name": "stdout",
     "output_type": "stream",
     "text": [
      "deque([])\n",
      "deque([10, 100, 1000])\n",
      "deque([10, 100])\n"
     ]
    }
   ],
   "source": [
    "p=deque() # ou p=deque([])\n",
    "print(p)\n",
    "ajoutPile(10,p)\n",
    "ajoutPile(100,p)\n",
    "ajoutPile(1000,p)\n",
    "print(p)\n",
    "p.pop()\n",
    "print(p)"
   ]
  },
  {
   "cell_type": "code",
   "execution_count": 3,
   "metadata": {},
   "outputs": [
    {
     "name": "stdout",
     "output_type": "stream",
     "text": [
      "deque([])\n",
      "deque([3, 2, 1])\n",
      "deque([3, 2])\n"
     ]
    }
   ],
   "source": [
    "f=deque()\n",
    "print(f)\n",
    "ajoutFile(1,f)\n",
    "ajoutFile(2,f)\n",
    "ajoutFile(3,f)\n",
    "print(f)\n",
    "f.pop()\n",
    "print(f)"
   ]
  },
  {
   "cell_type": "code",
   "execution_count": null,
   "metadata": {},
   "outputs": [],
   "source": []
  }
 ],
 "metadata": {
  "kernelspec": {
   "display_name": "Python 3 (ipykernel)",
   "language": "python",
   "name": "python3"
  },
  "language_info": {
   "codemirror_mode": {
    "name": "ipython",
    "version": 3
   },
   "file_extension": ".py",
   "mimetype": "text/x-python",
   "name": "python",
   "nbconvert_exporter": "python",
   "pygments_lexer": "ipython3",
   "version": "3.11.4"
  }
 },
 "nbformat": 4,
 "nbformat_minor": 4
}
