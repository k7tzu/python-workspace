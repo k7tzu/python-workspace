{
 "cells": [
  {
   "cell_type": "markdown",
   "metadata": {},
   "source": [
    "**Terminale NSI**\n",
    "<div class=\"bg-info\"><h1>Chapitre 8 - Les arbres</h1></div>\n",
    "\n",
    "<div class=\"bg-default\"><h2>Séance 3 - Implémentations d'un arbre binaire</h2></div>  "
   ]
  },
  {
   "cell_type": "markdown",
   "metadata": {},
   "source": [
    "## 1. En utilisant la Programmation Orientée Objet\n",
    "Le but est d'obtenir l'interface ci-dessous.\n",
    "\n",
    "Il est à remarquer que ce que nous allons appeler «Arbre» est en fait un nœud et ses deux fils gauche et droit."
   ]
  },
  {
   "cell_type": "markdown",
   "metadata": {},
   "source": [
    "**Interface souhaitée** :\n",
    "```python\n",
    ">>> a = Arbre(4) # pour créer l'arbre dont le nœud a pour valeur 4,\n",
    "            # et dont les sous-arbres gauche et droit sont None\n",
    ">>> a.left = Arbre(3) # pour donner la valeur 3 au nœud du sous-arbre gauche de a\n",
    ">>> a.right = Arbre(1) # pour donner la valeur 1 au nœud du sous-arbre droit de a\n",
    ">>> a.right.data # pour accéder à la valeur du fils droit de a\n",
    "```  \n",
    "\n",
    "**Exercice** : Dessinez l'arbre créé par les instructions suivantes :  \n",
    "```python\n",
    ">>> a = Arbre(4)\n",
    ">>> a.left = Arbre(3)\n",
    ">>> a.right = Arbre(1)\n",
    ">>> a.right.left = Arbre(2)\n",
    ">>> a.right.right = Arbre(7)\n",
    ">>> a.left.left = Arbre(6)\n",
    ">>> a.right.right.left = Arbre(9)\n",
    "```"
   ]
  },
  {
   "cell_type": "markdown",
   "metadata": {},
   "source": [
    "### Implémentation \n",
    "\n",
    "**Principe** : nous allons créer une classe ```Arbre```, qui contiendra 3 attributs : \n",
    "- ```data``` : la valeur du nœud (de type ```Int```)\n",
    "- ```left``` : le sous-arbre gauche (de type ```Arbre```)\n",
    "- ```right``` : le sous-arbre droit (de type ```Arbre```).\n",
    "\n",
    "Par défaut, les attributs ```left ``` et ```right``` seront à ```None```, qui représentera l'arbre vide (ce qui n'est pas très rigoureux, car ```None``` n'est pas de type ```Arbre```...).\n",
    "\n",
    "**Encapsulation ou pas ??**  \n",
    "\n",
    "Afin de respecter le paradigme de la Programmation Orientée Objet, nous devrions jouer totalement le jeu de l'**encapsulation** en nous refusant d'accéder directement aux attributs.\n",
    "\n",
    "Pour cela il faut construire des méthodes permettant d'accéder à ces attributs (avec des **getters**, ou **accesseurs** en français) ou de les modifier (avec des **setters**, ou **mutateurs** en français).\n"
   ]
  },
  {
   "cell_type": "markdown",
   "metadata": {},
   "source": [
    "### Classe `Arbre` avec encapsulation"
   ]
  },
  {
   "cell_type": "code",
   "execution_count": 6,
   "metadata": {},
   "outputs": [],
   "source": [
    "class Arbre:\n",
    "    def __init__(self, data):\n",
    "        self.data = data\n",
    "        self.left = None\n",
    "        self.right = None\n",
    "\n",
    "    def set_left(self, sousarbre):\n",
    "        self.left = sousarbre\n",
    "\n",
    "    def set_right(self, sousarbre):\n",
    "        self.right = sousarbre  \n",
    "\n",
    "    def get_left(self):\n",
    "        return self.left\n",
    "\n",
    "    def get_right(self):\n",
    "        return self.right\n",
    "\n",
    "    def get_data(self):\n",
    "        return self.data"
   ]
  },
  {
   "cell_type": "markdown",
   "metadata": {},
   "source": [
    "L'implémentation précédente permet d'utiliser les instructions de l'exercice précédent et de vérifier que l'arbre a bien été créé."
   ]
  },
  {
   "cell_type": "code",
   "execution_count": 7,
   "metadata": {},
   "outputs": [],
   "source": [
    "a = Arbre(4)\n",
    "a.set_left(Arbre(3))\n",
    "a.set_right(Arbre(1))\n",
    "a.get_right().set_left(Arbre(2))\n",
    "a.get_right().set_right(Arbre(7))\n",
    "a.get_left().set_left(Arbre(6))\n",
    "a.get_right().get_right().set_left(Arbre(9))"
   ]
  },
  {
   "cell_type": "code",
   "execution_count": 8,
   "metadata": {},
   "outputs": [
    {
     "data": {
      "text/plain": [
       "<__main__.Arbre at 0x111826cd0>"
      ]
     },
     "execution_count": 8,
     "metadata": {},
     "output_type": "execute_result"
    }
   ],
   "source": [
    "a"
   ]
  },
  {
   "cell_type": "code",
   "execution_count": 9,
   "metadata": {},
   "outputs": [
    {
     "data": {
      "text/plain": [
       "2"
      ]
     },
     "execution_count": 9,
     "metadata": {},
     "output_type": "execute_result"
    }
   ],
   "source": [
    "a.get_right().get_left().get_data()"
   ]
  },
  {
   "cell_type": "markdown",
   "metadata": {},
   "source": [
    "### Classe `Arbre` sans encapsulation"
   ]
  },
  {
   "cell_type": "code",
   "execution_count": 10,
   "metadata": {},
   "outputs": [],
   "source": [
    "class Arbre:\n",
    "    def __init__(self, data):\n",
    "        self.data = data\n",
    "        self.left = None\n",
    "        self.right = None"
   ]
  },
  {
   "cell_type": "markdown",
   "metadata": {},
   "source": [
    "C'est déjà fini !"
   ]
  },
  {
   "cell_type": "code",
   "execution_count": 11,
   "metadata": {},
   "outputs": [],
   "source": [
    "a = Arbre(4)\n",
    "a.left = Arbre(3)\n",
    "a.right = Arbre(1)\n",
    "a.right.left = Arbre(2)\n",
    "a.right.right = Arbre(7)\n",
    "a.left.left = Arbre(6)\n",
    "a.right.right.left = Arbre(9)\n"
   ]
  },
  {
   "cell_type": "code",
   "execution_count": 12,
   "metadata": {},
   "outputs": [
    {
     "data": {
      "text/plain": [
       "<__main__.Arbre at 0x111d18d50>"
      ]
     },
     "execution_count": 12,
     "metadata": {},
     "output_type": "execute_result"
    }
   ],
   "source": [
    "a"
   ]
  },
  {
   "cell_type": "code",
   "execution_count": 13,
   "metadata": {},
   "outputs": [
    {
     "data": {
      "text/plain": [
       "2"
      ]
     },
     "execution_count": 13,
     "metadata": {},
     "output_type": "execute_result"
    }
   ],
   "source": [
    "a.right.left.data"
   ]
  },
  {
   "cell_type": "markdown",
   "metadata": {},
   "source": [
    "On voit que l'implémentation avec accès direct aux attributs est beaucoup plus simple et rapide. Néanmoins, elle peut être considérée comme incorrecte dans certains langages qui obligent à passer par des accesseurs ou mutateurs pour lire ou modifier les attributs."
   ]
  },
  {
   "cell_type": "markdown",
   "metadata": {},
   "source": [
    "## 2. Implémentation à partir de tuples imbriqués\n",
    "\n",
    "Considérons qu'un arbre peut se représenter par le tuple ```(valeur, sous-arbre gauche, sous-arbre droit)```.\n",
    "\n",
    "L'arbre ci-dessous :\n",
    "![](img/imp_tuple.png)\n",
    "peut alors être représenté par le tuple :"
   ]
  },
  {
   "cell_type": "code",
   "execution_count": 14,
   "metadata": {},
   "outputs": [],
   "source": [
    "a = (2, (8, (6,(),()), (9,(),())), (1, (7, (),()), ()))"
   ]
  },
  {
   "cell_type": "markdown",
   "metadata": {},
   "source": [
    "Le sous-arbre gauche est alors ```a[1]``` et le sous-arbre droit est ```a[2]```."
   ]
  },
  {
   "cell_type": "code",
   "execution_count": 15,
   "metadata": {},
   "outputs": [
    {
     "data": {
      "text/plain": [
       "(8, (6, (), ()), (9, (), ()))"
      ]
     },
     "execution_count": 15,
     "metadata": {},
     "output_type": "execute_result"
    }
   ],
   "source": [
    "a[1]"
   ]
  },
  {
   "cell_type": "code",
   "execution_count": 16,
   "metadata": {
    "scrolled": true
   },
   "outputs": [
    {
     "data": {
      "text/plain": [
       "(1, (7, (), ()), ())"
      ]
     },
     "execution_count": 16,
     "metadata": {},
     "output_type": "execute_result"
    }
   ],
   "source": [
    "a[2]"
   ]
  },
  {
   "cell_type": "markdown",
   "metadata": {},
   "source": [
    "**Exercice :** écrire le tuple représentant l'arbre ci-dessous.\n",
    "\n",
    "![](img/carac3.png)\n"
   ]
  },
  {
   "cell_type": "code",
   "execution_count": null,
   "metadata": {},
   "outputs": [],
   "source": []
  },
  {
   "cell_type": "markdown",
   "metadata": {},
   "source": [
    "## 3. Implémentation à partir d'une «simple» liste\n",
    "De manière plus surprenante, il existe une méthode pour implémenter un arbre binaire (qui est une structure hiérarchique) avec une liste (qui est une structure linéaire). \n",
    "Ceci peut se faire par le biais d'une astuce sur les indices :\n",
    "\n",
    "**Les fils du nœud d'indice i sont placés aux indice 2i+1 et 2i+2**.\n",
    "\n",
    "Cette méthode est connue sous le nom de «méthode d'Eytzinger».\n",
    "\n",
    "**Exemple :**\n",
    "\n",
    "![](img/eytzinger.png)\n",
    "\n",
    "\n",
    "Pour comprendre facilement la numérotation, il suffit de s'imaginer l'arbre complet (en rajoutant les fils vides) et de faire une numérotation en largeur, niveau par niveau :\n",
    "\n",
    "![](img/eytzinger2.png)"
   ]
  },
  {
   "cell_type": "markdown",
   "metadata": {},
   "source": [
    "**Exercice :** Si on note Δ le sous-arbre vide, dessiner l'arbre représenté par la liste : `a = [3,4,Δ,7,5,Δ,Δ]`"
   ]
  },
  {
   "cell_type": "markdown",
   "metadata": {},
   "source": [
    "**Remarque :** parfois (comme dans le sujet 0...) la racine de l'arbre est placée à l'indice 1. Dans ce cas, les fils du nœud d'indice i sont placés aux indice 2i et 2i+1."
   ]
  }
 ],
 "metadata": {
  "kernelspec": {
   "display_name": "Python 3",
   "language": "python",
   "name": "python3"
  },
  "language_info": {
   "codemirror_mode": {
    "name": "ipython",
    "version": 3
   },
   "file_extension": ".py",
   "mimetype": "text/x-python",
   "name": "python",
   "nbconvert_exporter": "python",
   "pygments_lexer": "ipython3",
   "version": "3.7.4"
  },
  "toc": {
   "base_numbering": 1,
   "nav_menu": {},
   "number_sections": true,
   "sideBar": true,
   "skip_h1_title": false,
   "title_cell": "Table of Contents",
   "title_sidebar": "Contents",
   "toc_cell": false,
   "toc_position": {},
   "toc_section_display": true,
   "toc_window_display": false
  }
 },
 "nbformat": 4,
 "nbformat_minor": 2
}
