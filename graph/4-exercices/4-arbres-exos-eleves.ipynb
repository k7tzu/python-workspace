{
 "cells": [
  {
   "cell_type": "markdown",
   "metadata": {},
   "source": [
    "**Terminale NSI**\n",
    "<div class=\"bg-info\"><h1>Chapitre 8 - Les arbres</h1></div>\n",
    "\n",
    "<div class=\"bg-default\"><h2>Séance 4 - Utilisation de l'implémentation : parcours, taille...</h2></div>  "
   ]
  },
  {
   "cell_type": "markdown",
   "metadata": {},
   "source": [
    "Dans toute la suite, sauf mention contraire, on utilisera l'implémentation en Programmation Orientée Objet, en version sans encapsultaion (la plus simple). Nous allons créer des fonctions renvoyant les différents parcours d'un arbre, ou encore sa taille, sa hauteur, son nombre de feuilles... Toutes ses fonctions exploiteront la structure **récursive** d'un arbre.\n",
    "\n",
    "\n",
    "**Rappel de l'implémentation :**"
   ]
  },
  {
   "cell_type": "code",
   "execution_count": 1,
   "metadata": {},
   "outputs": [],
   "source": [
    "class Arbre:\n",
    "    def __init__(self, data):\n",
    "        self.data = data\n",
    "        self.left = None\n",
    "        self.right = None"
   ]
  },
  {
   "cell_type": "markdown",
   "metadata": {},
   "source": [
    "## 1. Parcours préfixe, infixe, postfixe\n",
    "\n",
    "### 1.1 Parcours préfixe"
   ]
  },
  {
   "cell_type": "code",
   "execution_count": 2,
   "metadata": {},
   "outputs": [],
   "source": [
    "def prefixe(arbre):\n",
    "    if arbre is None :\n",
    "        return None\n",
    "    print(arbre.data, end = '-')\n",
    "    prefixe(arbre.left)\n",
    "    prefixe(arbre.right)\n"
   ]
  },
  {
   "cell_type": "markdown",
   "metadata": {},
   "source": [
    "Exemple avec l'arbre \n",
    "![](img/exo_2.png)"
   ]
  },
  {
   "cell_type": "code",
   "execution_count": 3,
   "metadata": {},
   "outputs": [],
   "source": [
    "a = Arbre(9)\n",
    "a.left = Arbre(8)\n",
    "a.right = Arbre(7)\n",
    "a.left.left = Arbre(6)\n",
    "a.left.right = Arbre(2)\n",
    "a.right.right = Arbre(5)\n",
    "a.left.right.left = Arbre(1)\n",
    "a.right.right.left = Arbre(4)\n",
    "a.right.right.right = Arbre(3)\n"
   ]
  },
  {
   "cell_type": "code",
   "execution_count": 4,
   "metadata": {},
   "outputs": [
    {
     "name": "stdout",
     "output_type": "stream",
     "text": [
      "9-8-6-2-1-7-5-4-3-"
     ]
    }
   ],
   "source": [
    "prefixe(a)"
   ]
  },
  {
   "cell_type": "code",
   "execution_count": 5,
   "metadata": {},
   "outputs": [],
   "source": [
    "# autre version (qui renvoie une liste)\n",
    "def parcoursPrefixe(arbre, parcours):\n",
    "    if arbre is not None:\n",
    "        parcours.append(arbre.data)\n",
    "        parcoursPrefixe(arbre.left , parcours)\n",
    "        parcoursPrefixe(arbre.right, parcours)\n",
    "    return parcours"
   ]
  },
  {
   "cell_type": "code",
   "execution_count": 6,
   "metadata": {},
   "outputs": [
    {
     "name": "stdout",
     "output_type": "stream",
     "text": [
      "[9, 8, 6, 2, 1, 7, 5, 4, 3]\n"
     ]
    }
   ],
   "source": [
    "L = parcoursPrefixe(a,[])\n",
    "print(L)"
   ]
  },
  {
   "cell_type": "markdown",
   "metadata": {},
   "source": [
    "### 1.2 Parcours infixe"
   ]
  },
  {
   "cell_type": "code",
   "execution_count": 4,
   "metadata": {},
   "outputs": [],
   "source": [
    "def infixe(arbre):\n",
    "    if arbre is "
   ]
  },
  {
   "cell_type": "code",
   "execution_count": null,
   "metadata": {},
   "outputs": [],
   "source": []
  },
  {
   "cell_type": "markdown",
   "metadata": {},
   "source": [
    "### 1.3 Parcours postfixe"
   ]
  },
  {
   "cell_type": "code",
   "execution_count": null,
   "metadata": {},
   "outputs": [],
   "source": [
    "def postfixe(arbre):"
   ]
  },
  {
   "cell_type": "code",
   "execution_count": null,
   "metadata": {},
   "outputs": [],
   "source": []
  },
  {
   "cell_type": "markdown",
   "metadata": {},
   "source": [
    "## 2. Calcul de la taille d'un arbre\n",
    "Rappel :la taille d'un arbre est le nombre de ses nœuds."
   ]
  },
  {
   "cell_type": "code",
   "execution_count": null,
   "metadata": {},
   "outputs": [],
   "source": [
    "def taille(arbre):"
   ]
  },
  {
   "cell_type": "code",
   "execution_count": null,
   "metadata": {},
   "outputs": [],
   "source": []
  },
  {
   "cell_type": "markdown",
   "metadata": {},
   "source": [
    "## 3. Calcul de la hauteur d'un arbre\n",
    "Rappel : on prendra comme convention que l'arbre vide a pour hauteur 0."
   ]
  },
  {
   "cell_type": "code",
   "execution_count": null,
   "metadata": {},
   "outputs": [],
   "source": [
    "def hauteur(arbre):"
   ]
  },
  {
   "cell_type": "code",
   "execution_count": null,
   "metadata": {},
   "outputs": [],
   "source": []
  },
  {
   "cell_type": "markdown",
   "metadata": {},
   "source": [
    "## 4. Calcul du nombre de feuilles d'un arbre\n",
    "Rappel : une feuille est un nœud d'arité 0, autrement dit sans fils gauche ni fils droit."
   ]
  },
  {
   "cell_type": "code",
   "execution_count": null,
   "metadata": {},
   "outputs": [],
   "source": [
    "def nb_feuilles(arbre):"
   ]
  },
  {
   "cell_type": "code",
   "execution_count": null,
   "metadata": {},
   "outputs": [],
   "source": []
  },
  {
   "cell_type": "markdown",
   "metadata": {},
   "source": [
    "## 5. Rechercher une valeur dans un arbre\n",
    "On renverra ```True``` ou ```False``` en fonction de la présence ou non de la valeur dans l'arbre."
   ]
  },
  {
   "cell_type": "code",
   "execution_count": null,
   "metadata": {},
   "outputs": [],
   "source": [
    "def recherche(arbre, valeur):\n"
   ]
  },
  {
   "cell_type": "code",
   "execution_count": null,
   "metadata": {},
   "outputs": [],
   "source": []
  },
  {
   "cell_type": "code",
   "execution_count": null,
   "metadata": {},
   "outputs": [],
   "source": []
  },
  {
   "cell_type": "markdown",
   "metadata": {},
   "source": [
    "## 6. Parcours en largeur\n",
    "Le parcours en largeur (BFS) est le plus simple à faire visuellement : mais il est plus difficile à coder que les parcours préfixe, infixe, postfixe.  \n",
    "Il est nécessaire d'utiliser une **file**  :\n",
    "- On place l'arbre dans la file.\n",
    "- Tant que la file n'est pas vide, on procède comme suit :\n",
    "    - On défile, donc on récupère l'arbre situé en haut de la file.  \n",
    "    - Si cet arbre n'est pas vide :\n",
    "        - On garde son étiquette.\n",
    "        - On enfile son sous-arbre gauche, puis son sous-arbre droit.\n",
    "\n",
    "![](img/parcoursBFS.png)"
   ]
  },
  {
   "cell_type": "markdown",
   "metadata": {},
   "source": [
    "On importera l'objet ```Queue()``` du module ```queue``` de Python, qui permet de  :\n",
    "- créer une file vide avec ```file = Queue()```\n",
    "- défiler un élément par ```file.get()```\n",
    "- enfiler l'élément ```a``` par ```file.put(a)```\n",
    "- savoir si la file est vide par le booléen ```file.empty()```"
   ]
  },
  {
   "cell_type": "code",
   "execution_count": null,
   "metadata": {},
   "outputs": [],
   "source": [
    "# arbre-test\n",
    "# ne pas oublier de remonter plus haut dans le document pour relancer la classe Arbre\n",
    "a = Arbre(8)\n",
    "a.left = Arbre(4)\n",
    "a.right = Arbre(5)\n",
    "a.left.left = Arbre(2)\n",
    "a.left.right = Arbre(1)\n",
    "a.right.right = Arbre(3)\n"
   ]
  },
  {
   "cell_type": "code",
   "execution_count": null,
   "metadata": {},
   "outputs": [],
   "source": [
    "from queue import Queue\n",
    "\n",
    "def BFS(arbre):        \n"
   ]
  },
  {
   "cell_type": "code",
   "execution_count": null,
   "metadata": {},
   "outputs": [],
   "source": []
  },
  {
   "cell_type": "code",
   "execution_count": null,
   "metadata": {},
   "outputs": [],
   "source": []
  }
 ],
 "metadata": {
  "kernelspec": {
   "display_name": "Python 3",
   "language": "python",
   "name": "python3"
  },
  "language_info": {
   "codemirror_mode": {
    "name": "ipython",
    "version": 3
   },
   "file_extension": ".py",
   "mimetype": "text/x-python",
   "name": "python",
   "nbconvert_exporter": "python",
   "pygments_lexer": "ipython3",
   "version": "3.7.4"
  },
  "toc": {
   "base_numbering": 1,
   "nav_menu": {},
   "number_sections": true,
   "sideBar": true,
   "skip_h1_title": false,
   "title_cell": "Table of Contents",
   "title_sidebar": "Contents",
   "toc_cell": false,
   "toc_position": {},
   "toc_section_display": true,
   "toc_window_display": false
  }
 },
 "nbformat": 4,
 "nbformat_minor": 2
}
