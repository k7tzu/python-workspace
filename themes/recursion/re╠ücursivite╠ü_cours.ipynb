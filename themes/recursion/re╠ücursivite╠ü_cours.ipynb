{
 "cells": [
  {
   "cell_type": "markdown",
   "metadata": {},
   "source": [
    "**Terminale NSI**\n",
    "<div class=\"bg-info\"><h1>Chapitre 2 - Récursivité</h1></div>"
   ]
  },
  {
   "cell_type": "markdown",
   "metadata": {},
   "source": [
    "### Un premier exemple \n",
    "Etant donné une liste d'entiers ```L=[2,12,8,5,10,20]```, calculer la somme des éléments de cette liste. Comme les listes sont itérables, nous pouvons simplement résoudre ce problème avec l'un de ces algorithmes que l'on dit **itératif** :  \n",
    "<img src=\"img/exemple1.png\" width=600>  \n",
    "Écrire en Python ces fonctions ```sommeliste1``` et ```sommeliste2```."
   ]
  },
  {
   "cell_type": "code",
   "execution_count": null,
   "metadata": {},
   "outputs": [],
   "source": []
  },
  {
   "cell_type": "code",
   "execution_count": null,
   "metadata": {},
   "outputs": [],
   "source": []
  },
  {
   "cell_type": "markdown",
   "metadata": {},
   "source": [
    "Supposons maintenant que nous n’ayons pas la possibilité de faire de \"boucles\".  \n",
    "On peut alors aborder le problème sous un autre angle :  \n",
    "La somme des termes de cette liste [2,12,8,5,10,20] est :  \n",
    "2 + (la somme des termes de [12,8,5,10,20])  \n",
    "Soit : 2 + (12 + (la somme des termes de [8,5,10,20])  \n",
    "et ainsi de suite... jusqu’à :    \n",
    "2 + (12 + (8 + (5 + (10 + (la somme des termes de [20])))))  \n",
    "Il est clair que : la somme des termes de [20] est 20  \n",
    "Au final le calcul à faire est : 2 + (12 + (8 + (5 + (10 + (20))))) = 57  "
   ]
  },
  {
   "cell_type": "markdown",
   "metadata": {},
   "source": [
    "Considérons alors une fonction ```sommeliste``` qui renvoie le résultat de la somme des éléments de la liste.\n",
    "L’algorithme ci-dessous que l’on dit **récursif** réalise cette seconde approche :  \n",
    "<img src=\"img/exemple1rec.png\" width=350>  \n",
    "Écrire en Python cette fonction ```sommeliste```.  \n",
    "_Rappels sur l'indexation des conteneurs séquences :_  \n",
    "<img src=\"img/mementoIndexation.png\" width=800> "
   ]
  },
  {
   "cell_type": "code",
   "execution_count": null,
   "metadata": {},
   "outputs": [],
   "source": []
  },
  {
   "cell_type": "markdown",
   "metadata": {},
   "source": [
    "L'analyse par cas de l'algorithme récursif est ici réalisé par une instruction conditionnelle pour tester si la liste contient un seul élément. Si c'est le cas, la fonction renvoie cet élément, sinon elle renvoie la somme ```liste[0] + sommeliste([1:])```.  \n",
    "Cet appel à ```sommeliste([1:])``` dans le corps de la fonction est un **appel récursif**, c'est-à-dire un appel qui fait référence à la fonction que l'on est en train de définir.  \n",
    "On dit de toute fonction qui contient un appel récursif que c'est une **fonction récursive**."
   ]
  },
  {
   "cell_type": "markdown",
   "metadata": {},
   "source": [
    "Comparons les vitesses d’exécutions des programmes version itérative et version récursive de l’exemple précédent.\n",
    "Pour tester la vitesse d’exécution d’une fonction on utilise le module ```timeit```, comme le montre le code ci-dessous pour une liste de 1000 entiers choisis aléatoirement entre 0 et 100 avec le module random."
   ]
  },
  {
   "cell_type": "code",
   "execution_count": null,
   "metadata": {},
   "outputs": [],
   "source": [
    "from timeit import default_timer as timer \n",
    "from random import randint\n",
    "\n",
    "# ici les deux fonctions\n",
    "\n",
    "L=[randint(0,100) for i in range(1000)]\n",
    "debut=timer()\n",
    "print(sommeliste1(L))\n",
    "fin=timer()\n",
    "print(fin-debut)\n",
    "\n",
    "debut=timer()\n",
    "print(sommeliste(L))\n",
    "fin=timer()\n",
    "print(fin-debut)"
   ]
  },
  {
   "cell_type": "code",
   "execution_count": null,
   "metadata": {},
   "outputs": [],
   "source": []
  },
  {
   "cell_type": "markdown",
   "metadata": {},
   "source": [
    "### Fonction récursive  \n",
    "**Une fonction est dite récursive si elle s'appelle elle-même. Nous parlons alors d'appel récursif.**  \n",
    "_La fonction ```sommeliste``` est récursive.  \n",
    "Par opposition, les fonctions ```sommeliste1``` et ```sommeliste2``` sont des fonctions itératives._\n",
    "\n",
    "Une formulation récursive d'une fonction est toujours constituée de plusieurs cas, parmi lesquels on distingue des **cas de base** et des **cas récursifs** du calcul.   \n",
    "Les **cas récursifs** sont ceux qui renvoient à la fonction en train d'être définie (ici ```liste[0] + sommeliste([1:])```).  \n",
    "Les **cas de base** de la définition sont à l'inverse ceux pour lesquels on peut obtenir le résultat sans avoir recours à la fonction définie elle-même (ici l'élément lui-même si la liste n'en contient qu'un). Ces cas de base sont habituellement les cas de valeurs particulières pour lesquelles il est facile de déterminer le résultat.    \n",
    "<img src=\"img/briques.png\" width=600> \n"
   ]
  },
  {
   "cell_type": "markdown",
   "metadata": {},
   "source": [
    "Les algorithmes récursifs doivent obéir à **trois règles**...  \n",
    "* Un algorithme récursif doit avoir un \"**état trivial**\", cela permet d’avoir une condition d’arrêt. _Dans notre exemple, il s’agit de : si la liste est de longueur 1 alors on renvoie le seul élément de la liste._  \n",
    "* Un algorithme récursif doit conduire vers cet \"**état d’arrêt**\", cela permet de ne pas faire une infinité d’appels récursifs. _Dans notre exemple, à chaque appel récursif, la liste est diminuée d’un élément donc nécessairement elle finira par n’en n’avoir plus qu’un._  \n",
    "* Un algorithme récursif **s’appelle lui même**..."
   ]
  },
  {
   "cell_type": "markdown",
   "metadata": {},
   "source": [
    "### Comment fonctionne un programme récursif ?  \n",
    "Un programme est une suite d’instructions, son exécution peut être représentée par un parcours de chemin ayant une origine et une extrémité.  \n",
    "Lors de l’appel d’une fonction, cette suite est interrompue le temps de cette fonction, avant de reprendre à l’endroit où le programme s’est arrêté.  \n",
    "<img src=\"img/pile1.png\" width=500>\n",
    "Au moment où débute cette bifurcation, le processeur sauvegarde un certain nombre d’informations : adresse de retour, état des variables, etc. Toutes ces données forment ce qu’on appelle le contexte du programme, et elles sont stockées dans ce qu’on appelle la **pile d’exécution**.  \n",
    "À la fin de l’exécution de la fonction, le contexte est sorti pour permettre la poursuite de l’exécution du programme.  \n",
    "  \n",
    " \n",
    "Lors de l’exécution d’une fonction récursive, chaque appel récursif conduit au moment où il se produit à un empilement du contexte dans la pile d’exécution. Lorsqu’au bout de n appels se produit la condition d’arrêt, les différents contextes sont progressivement dépilés pour poursuivre l’exécution de la fonction.  \n",
    "<img src=\"img/pile2.png\" width=500>\n",
    "Il est important de prendre conscience qu’une fonction récursive s’accompagne d’une complexité qui va croître avec le nombre d’appels récursifs.  "
   ]
  },
  {
   "cell_type": "markdown",
   "metadata": {},
   "source": [
    "### Pile d'exécution\n",
    "Voici un schéma expliquant le processus en termes de pile d'exécution.  \n",
    "_Il ne faut jamais perdre de vu qu'à chaque nouvel appel de la fonction ```sommeliste``` le **paramètre** ```liste``` est différent._  \n",
    "<img src=\"img/execution.png\" width=700>  \n",
    "\n",
    "\n",
    "Copiez le code de la fonction et visualisez-en l'exécution sur [Python Tutor](http://pythontutor.com/visualize.html#mode=edit). Vous y verrez notamment l'évolution de la \"pile d'appels\"."
   ]
  },
  {
   "cell_type": "markdown",
   "metadata": {},
   "source": [
    "### Arbre d'appels  \n",
    "Un **arbre d'appels** permet de représenter l'exécution d'un programme en indiquant les différents appels effectués.  \n",
    "Par exemple :\n",
    "```Python  \n",
    "sommeliste([10,20,30]) = return 10 + sommeliste([20,30])\n",
    "                                          |\n",
    "                                        return 20 + sommeliste([30])\n",
    "                                                       |\n",
    "                                                    return 30\n",
    "``` \n",
    "Au final :  \n",
    "```Python\n",
    "sommeliste([10,20,30]) = return 10 + 20 + 30  \n",
    "``` \n",
    "\n",
    "        \n",
    "        \n",
    "        \n"
   ]
  },
  {
   "cell_type": "markdown",
   "metadata": {},
   "source": [
    "### Itératif vs Récursif\n",
    "Il n’existe pas de réponse définitive à la question de savoir si un algorithme récursif est préférable à un algorithme itératif ou le contraire. Ces deux paradigmes de programmation sont équivalents.    \n",
    "Le choix d’écrire une fonction récursive ou itérative peut dépendre du problème à résoudre : certains problèmes se résolvent particulièrement simplement sous forme récursive.  \n",
    "_Le choix du langage peut aussi avoir son importance : un langage fonctionnel tel Caml est conçu pour exploiter la récursivité et le programmeur est naturellement amené à choisir la version récursive de l’algorithme qu’il souhaite écrire. Python, même s’il l’autorise, ne favorise pas l’écriture récursive (limitation basse (1000 par défaut) du nombre d’appels récursifs)._\n"
   ]
  },
  {
   "cell_type": "markdown",
   "metadata": {},
   "source": [
    "### Exercices"
   ]
  },
  {
   "cell_type": "markdown",
   "metadata": {},
   "source": [
    "### Exercice 1\n",
    "Ecrire les versions itérative et récursive de la fonction ```sommme(n)``` renvoyant la somme des $ n $ premiers entiers $ 0+1+2+...+n $."
   ]
  },
  {
   "cell_type": "code",
   "execution_count": null,
   "metadata": {},
   "outputs": [],
   "source": []
  },
  {
   "cell_type": "markdown",
   "metadata": {},
   "source": [
    "### Exercice 2\n",
    "Ecrire les versions itérative et récursive de la fonction factorielle $n!$ définie par $n!=1 \\times 2 \\times ... \\times n$ si $n>0$ et $0!=1$."
   ]
  },
  {
   "cell_type": "code",
   "execution_count": null,
   "metadata": {},
   "outputs": [],
   "source": []
  },
  {
   "cell_type": "markdown",
   "metadata": {},
   "source": [
    "### Exercice 3  \n",
    "Ecrire une fonction récursive ```puissance(x,n)``` calculant $x^n$ où $n\\in\\mathbb{N}$ et $x\\in\\mathbb{R}$."
   ]
  },
  {
   "cell_type": "code",
   "execution_count": null,
   "metadata": {},
   "outputs": [],
   "source": []
  },
  {
   "cell_type": "markdown",
   "metadata": {},
   "source": [
    "### Exercice 4 *(double récursion)*  \n",
    "*Les expressions qui définissent une fonction peuvent aussi dépendre de plusieurs appels à la fonction en cours de définition.*  \n",
    "Par exemple, la suite de Fibonacci, qui doit son nom au mathématicien Leonardo Fibonacci, est définie par récurrence sur $\\mathbb{N}$ par :  \n",
    " \n",
    "&emsp; &emsp; $\n",
    "\\left\\{\n",
    "          \\begin{array}{lll}\n",
    "            u_0 = 0 \\\\\n",
    "            u_1 = 1 \\\\\n",
    "            u_n = u_{n - 1} + u_{n - 2} \\\\\n",
    "          \\end{array}\n",
    "\\right.\n",
    "$   \n",
    "  \n",
    "Ecrire le programme récursif donnant la valeur de rang donné d'un élément de la suite de Fibonacci.  \n",
    "Testez-le en calculant quelques valeurs, de plus en plus grandes.  "
   ]
  },
  {
   "cell_type": "code",
   "execution_count": null,
   "metadata": {},
   "outputs": [],
   "source": []
  }
 ],
 "metadata": {
  "kernelspec": {
   "display_name": "Python 3",
   "language": "python",
   "name": "python3"
  },
  "language_info": {
   "codemirror_mode": {
    "name": "ipython",
    "version": 3
   },
   "file_extension": ".py",
   "mimetype": "text/x-python",
   "name": "python",
   "nbconvert_exporter": "python",
   "pygments_lexer": "ipython3",
   "version": "3.7.6"
  }
 },
 "nbformat": 4,
 "nbformat_minor": 4
}
