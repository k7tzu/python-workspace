{
 "cells": [
  {
   "cell_type": "markdown",
   "metadata": {},
   "source": [
    "**Terminale NSI**\n",
    "<div class=\"bg-info\"><h1>Chapitre 8 - Les arbres</h1></div>\n",
    "\n",
    "<div class=\"bg-default\"><h2>Séance 2 - Parcours d'arbres</h2></div>  "
   ]
  },
  {
   "cell_type": "markdown",
   "metadata": {},
   "source": [
    "Les arbres étant une structure hiérarchique, leur utilisation implique la nécessité d'un **parcours** des valeurs stockées. Par exemple pour toutes les récupérer dans un certain ordre, ou bien pour en chercher une en particulier.  \n",
    "\n",
    "Il existe plusieurs manières de parcourir un arbre.\n"
   ]
  },
  {
   "cell_type": "markdown",
   "metadata": {},
   "source": [
    "## 1. Parcours en largeur d'abord (BFS)\n",
    "*BFS : Breadth First Search*\n",
    "\n",
    "Le parcours en largeur d'abord est un parcours étage par étage (de haut en bas) et de gauche à droite.\n",
    "\n",
    "![](img/BFS.png)\n",
    "\n",
    "L'ordre des lettres parcourues est donc T-Y-O-P-H-N."
   ]
  },
  {
   "cell_type": "markdown",
   "metadata": {},
   "source": [
    "Les trois parcours que nous allons voir maintenant sont des parcours en **profondeur d'abord**, ou **DPS** (*Depth First Search*). Ce qui signifie qu'un des deux sous-arbres sera totalement parcouru avant que l'exploration du deuxième ne commence. "
   ]
  },
  {
   "cell_type": "markdown",
   "metadata": {},
   "source": [
    "## 2. Parcours préfixe\n",
    "Le parcours **préfixe** est un parcours **en profondeur d'abord**. \n",
    "\n",
    "**Méthode du parcours préfixe :** (parfois aussi appelé *préordre*)\n",
    "- Chaque nœud est visité avant que ses fils le soient.\n",
    "- On part de la racine, puis on visite son fils gauche (et éventuellement le fils gauche de celui-ci, etc.) avant de remonter et de redescendre vers le fils droit.\n",
    "\n",
    "![](img/prefixe.png)\n",
    "\n",
    "L'ordre des lettres parcourues est donc T-Y-P-O-H-N."
   ]
  },
  {
   "cell_type": "markdown",
   "metadata": {},
   "source": [
    "## 3. Parcours infixe\n",
    "Le parcours **infixe** est aussi un parcours en profondeur d'abord.\n",
    "\n",
    "**Méthode du parcours infixe :** (parfois aussi appelé *en ordre*)\n",
    "- Chaque nœud est visité **après son fils gauche mais avant son fils droit**.\n",
    "- On part donc de la feuille la plus à gauche et on remonte par vagues sucessives. Un nœud ne peut pas être visité si son fils gauche ne l'a pas été.\n",
    "\n",
    "![](img/infixe.png)\n",
    "\n",
    "L'ordre des lettres parcourues est donc P-Y-T-H-O-N."
   ]
  },
  {
   "cell_type": "markdown",
   "metadata": {},
   "source": [
    "## 4. Parcours postfixe\n",
    "Le parcours **postfixe** est aussi un parcours en profondeur d'abord.\n",
    "\n",
    "**Méthode du parcours postfixe :** (parfois aussi appelé *post ordre*)\n",
    "- Chaque nœud est visité **après que ses fils le soient**.\n",
    "- On part donc de la feuille la plus à gauche, et on ne remonte à un nœud père que si ses fils ont tous été visités. \n",
    "\n",
    "![](img/postfixe.png)\n",
    "\n",
    "L'ordre des lettres parcourues est donc P-Y-H-N-O-T."
   ]
  },
  {
   "cell_type": "markdown",
   "metadata": {},
   "source": [
    "## 5. Comment ne pas se mélanger entre le pré / in / post fixe ?\n",
    "<img src=\"img/Profondeur.png\" width=500>\n",
    "\n",
    "- *pré* veut dire *avant*\n",
    "- *in* veut dire *au milieu*\n",
    "- *post* veut dire *après*\n",
    "\n",
    "Ces trois mots-clés parlent de la place du **père** par rapport à ses fils. \n",
    "Ensuite, il faut toujours se souvenir qu'on traite le fils gauche avant le fils droit.\n",
    "\n",
    "- préfixe : le père doit être le premier par rapport à ses fils.\n",
    "- infixe : le père doit être entre son fils gauche (traité en premier) et son fils droit.\n",
    "- postfixe : le père ne doit être traité que quand ses deux fils (gauche d'abord, droite ensuite) l'ont été.\n",
    "\n",
    "Un parcours préfixe commencera toujours par la racine, alors qu'un parcours postfixe finira toujours par la racine. Dans un parcours infixe, la racine sera «au milieu» (pas nécessairement parfaitement)."
   ]
  },
  {
   "cell_type": "markdown",
   "metadata": {},
   "source": [
    "## Exercice 1 \n",
    "\n",
    "![](img/exo_parcours.png)\n",
    "\n",
    "Donner le rendu de chaque parcours :\n",
    "1. Parcours en largeur \n",
    "2. Parcours préfixe\n",
    "3. Parcours infixe\n",
    "4. Parcours postfixe"
   ]
  },
  {
   "cell_type": "code",
   "execution_count": null,
   "metadata": {},
   "outputs": [],
   "source": [
    "1) 1, 2, 3, 4, 5, 6, 7, 8, 9\n",
    "2) 1, 2, 4, 5, 7, 8, 3, 6, 9\n",
    "3) 4, 2, 7, 5, 8, 1, 3, 9, 6\n",
    "4) 4, 7, 8, 5, 2, 9, 6, 3, 1"
   ]
  },
  {
   "cell_type": "markdown",
   "metadata": {},
   "source": [
    "## Exercice 2\n",
    "\n",
    "![](img/exo_2.png)\n",
    "\n",
    "Donner le rendu de chaque parcours :\n",
    "1. Parcours en largeur \n",
    "2. Parcours préfixe\n",
    "3. Parcours infixe\n",
    "4. Parcours postfixe\n"
   ]
  },
  {
   "cell_type": "code",
   "execution_count": null,
   "metadata": {},
   "outputs": [],
   "source": [
    "1) 9, 8, 7, 6, 2, 5, 1, 4, 3\n",
    "2) 9, 8, 6, 2, 1, 7, 5, 4, 3\n",
    "3) 6, 8, 1, 2, 9, 7, 4, 5, 3\n",
    "4) 6, 1, 2, 8, 4, 3, 5, 7, 9"
   ]
  }
 ],
 "metadata": {
  "kernelspec": {
   "display_name": "Python 3",
   "language": "python",
   "name": "python3"
  },
  "language_info": {
   "codemirror_mode": {
    "name": "ipython",
    "version": 3
   },
   "file_extension": ".py",
   "mimetype": "text/x-python",
   "name": "python",
   "nbconvert_exporter": "python",
   "pygments_lexer": "ipython3",
   "version": "3.7.4"
  },
  "toc": {
   "base_numbering": 1,
   "nav_menu": {},
   "number_sections": true,
   "sideBar": true,
   "skip_h1_title": false,
   "title_cell": "Table of Contents",
   "title_sidebar": "Contents",
   "toc_cell": false,
   "toc_position": {},
   "toc_section_display": true,
   "toc_window_display": false
  }
 },
 "nbformat": 4,
 "nbformat_minor": 2
}
