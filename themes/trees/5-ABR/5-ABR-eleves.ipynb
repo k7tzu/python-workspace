{
 "cells": [
  {
   "cell_type": "markdown",
   "metadata": {},
   "source": [
    "**Terminale NSI**\n",
    "<div class=\"bg-info\"><h1>Chapitre 8 - Les arbres</h1></div>\n",
    "\n",
    "<div class=\"bg-default\"><h2>Séance 5 - Arbres binaires de recherche (ABR)</h2></div>  "
   ]
  },
  {
   "cell_type": "markdown",
   "metadata": {},
   "source": [
    "## Définition\n",
    "Un **arbre binaire de recherche** est un arbre binaire dont les valeurs des nœuds (valeurs qu'on appelle étiquettes, ou clés) vérifient la propriété suivante :\n",
    "- l'étiquette d'un nœud est **supérieure ou égale** à celle de **chaque** nœud de son **sous-arbre gauche**.\n",
    "- l'étiquette d'un nœud est **strictement inférieure** à celle de **chaque** nœud de son **sous-arbre droit**.\n",
    "\n",
    "![](img/exABR.png)\n",
    "\n",
    "À noter que l'arbre 3 (qui est bien un ABR) est appelé **arbre filiforme**. \n",
    "\n",
    "L'arbre 5 n'est pas un ABR à cause de la feuille 9, qui fait partie du sous-arbre gauche de 3 sans lui être inférieure.\n",
    "\n",
    "**Remarque :** on pourrait aussi définir un ABR comme un arbre dont le parcours infixe est une suite croissante."
   ]
  },
  {
   "cell_type": "markdown",
   "metadata": {},
   "source": [
    "## 1. Déterminer si un arbre est un ABR\n",
    "\n",
    "Employer une méthode récursive imposerait de garder en mémoire dans l'exploration des sous-arbres la valeur maximale ou minimale. Nous allons plutôt utiliser la remarque précédente, et nous servir du parcours infixe.\n",
    "\n",
    "Méthode : récupérer le parcours infixe dans une liste, et faire un test sur cette liste."
   ]
  },
  {
   "cell_type": "code",
   "execution_count": 2,
   "metadata": {},
   "outputs": [],
   "source": [
    "class Arbre:\n",
    "    def __init__(self, data):\n",
    "        self.data = data\n",
    "        self.left = None\n",
    "        self.right = None\n",
    "\n",
    "def infixe(arbre, s=None):\n",
    "    if s is None:\n",
    "        s = []\n",
    "    if arbre:\n",
    "        infixe(arbre.left, s)\n",
    "        s.append(arbre.data)\n",
    "        infixe(arbre.right, s)\n",
    "    return s\n",
    "\n",
    "def est_ABR(arbre):\n",
    "    '''renvoie un booléen indiquant si arbre est un ABR'''\n",
    "    valeurs = infixe(arbre)\n",
    "    return all(valeurs[i] < valeurs[i + 1] for i in range(len(valeurs) - 1))"
   ]
  },
  {
   "cell_type": "code",
   "execution_count": 3,
   "metadata": {},
   "outputs": [],
   "source": [
    "# arbres-tests \n",
    "\n",
    "#arbre n°4\n",
    "a = Arbre(5)\n",
    "a.left = Arbre(2)\n",
    "a.right = Arbre(7)\n",
    "a.left.left = Arbre(0)\n",
    "a.left.right = Arbre(3)\n",
    "a.right.left = Arbre(6)\n",
    "a.right.right = Arbre(8)\n",
    "\n",
    "#arbre n°5\n",
    "b = Arbre(3)\n",
    "b.left = Arbre(2)\n",
    "b.right = Arbre(5)\n",
    "b.left.left = Arbre(1)\n",
    "b.left.right = Arbre(9)\n",
    "b.right.left = Arbre(4)\n",
    "b.right.right = Arbre(6)\n"
   ]
  },
  {
   "cell_type": "code",
   "execution_count": 4,
   "metadata": {},
   "outputs": [
    {
     "data": {
      "text/plain": [
       "True"
      ]
     },
     "execution_count": 4,
     "metadata": {},
     "output_type": "execute_result"
    }
   ],
   "source": [
    "est_ABR(a)"
   ]
  },
  {
   "cell_type": "code",
   "execution_count": 5,
   "metadata": {},
   "outputs": [
    {
     "data": {
      "text/plain": [
       "False"
      ]
     },
     "execution_count": 5,
     "metadata": {},
     "output_type": "execute_result"
    }
   ],
   "source": [
    "est_ABR(b)"
   ]
  },
  {
   "cell_type": "markdown",
   "metadata": {},
   "source": [
    "## 2. Rechercher une clé dans un ABR\n",
    "\n",
    "Un arbre binaire de taille $n$ contient $n$ clés (pas forcément différentes). Pour savoir si une valeur particulière fait partie des clés, on peut parcourir tous les nœuds de l'arbre, jusqu'à trouver (ou pas) cette valeur dans l'arbre. Dans le pire des cas, il faut donc faire $n$ comparaisons.\n",
    "\n",
    "Mais si l'arbre est un ABR, le fait que les valeurs soient «rangées» va considérablement améliorer la vitesse de recherche de cette clé, puisque la moitié de l'arbre restant sera écartée après chaque comparaison."
   ]
  },
  {
   "cell_type": "code",
   "execution_count": 6,
   "metadata": {},
   "outputs": [
    {
     "name": "stdout",
     "output_type": "stream",
     "text": [
      "True\n",
      "False\n"
     ]
    }
   ],
   "source": [
    "def contient_valeur(arbre, valeur):\n",
    "    if arbre is None:\n",
    "        return False\n",
    "    if arbre.data == valeur:\n",
    "        return True\n",
    "    elif valeur < arbre.data:\n",
    "        return contient_valeur(arbre.left, valeur)\n",
    "    else:\n",
    "        return contient_valeur(arbre.right, valeur)\n",
    "\n",
    "print(contient_valeur(a, 8))\n",
    "print(contient_valeur(b, 8))\n"
   ]
  },
  {
   "cell_type": "markdown",
   "metadata": {},
   "source": [
    "**Exemple** \n",
    "\n",
    "L'arbre ```a``` contient la valeur 8, mais l'arbre ```b``` ne la contient pas :\n"
   ]
  },
  {
   "cell_type": "code",
   "execution_count": 7,
   "metadata": {},
   "outputs": [
    {
     "data": {
      "text/plain": [
       "True"
      ]
     },
     "execution_count": 7,
     "metadata": {},
     "output_type": "execute_result"
    }
   ],
   "source": [
    "contient_valeur(a,8)"
   ]
  },
  {
   "cell_type": "code",
   "execution_count": 8,
   "metadata": {},
   "outputs": [
    {
     "data": {
      "text/plain": [
       "False"
      ]
     },
     "execution_count": 8,
     "metadata": {},
     "output_type": "execute_result"
    }
   ],
   "source": [
    "contient_valeur(b,8)"
   ]
  },
  {
   "cell_type": "markdown",
   "metadata": {},
   "source": [
    "## 3.  Coût de la recherche dans un ABR équilibré\n",
    "![](img/rechercheABR.png)\n",
    "\n",
    "Imaginons un arbre équilibré de taille $n$. Combien d'étapes faudra-t-il, dans le pire des cas, pour trouver (ou pas) une clé particulière dans cet arbre ?\n",
    "\n",
    "Après chaque nœud, le nombre de nœuds restant à explorer est divisé par 2. On retrouve là le principe de recherche dichotomique, vu en classe de Première.\n",
    "\n",
    "S'il faut parcourir tous les étages de l'arbre avant de trouver (ou pas) la clé recherchée, le nombre de nœuds parcourus est donc égal à la hauteur $h$ de l'arbre.\n",
    "\n",
    "Pour un arbre complet, cette hauteur vérifie la relation $2^h -1= n$. et donc $2^h = n+1$.\n",
    "\n",
    "$h$ est donc le «nombre de puissance de 2» que l'on peut mettre dans $n+1$. Cette notion s'appelle le logarithme de base 2 et se note $\\log_2$.\n",
    "\n",
    "Par exemple, $\\log_2(64)=6$ car $2^6=64$.\n",
    "\n",
    "Le nombre maximal de nœuds à parcourir pour rechercher une clé dans un ABR équilibré de taille $n$ est donc de l'ordre de $\\log_2(n)$, ce qui est très performant !\n",
    "\n",
    "Pour arbre contenant 1000 valeurs, 10 étapes suffisent.\n",
    "\n",
    "Cette **complexité logarithmique** est un atout essentiel de la structure d'arbre binaire de recherche."
   ]
  },
  {
   "cell_type": "markdown",
   "metadata": {},
   "source": [
    "## 4.  Insertion dans un ABR\n",
    "L'insertion d'une clé va se faire au niveau d'une feuille, donc au bas de l'arbre. Dans la version récursive de l'algorithme d'insertion, que nous allons implémenter, il n'est pourtant pas nécessaire de descendre manuellement dans l'arbre jusqu'au bon endroit : il suffit de distinguer dans lequel des deux sous-arbres gauche et droit doit se trouver la future clé, et d'appeler récursivement la fonction d'insertion dans le sous-arbre en question.\n",
    "\n",
    "**Algorithme :**\n",
    "- Si l'arbre est vide, on renvoie un nouvel objet Arbre contenant la clé.\n",
    "- Sinon, on compare la clé à la valeur du nœud sur lequel on est positionné :\n",
    "    - Si la clé est inférieure à cette valeur, on va modifier le sous-arbre gauche en le faisant pointer vers ce même sous-arbre une fois que la clé y aura été injecté, par un appel récursif.\n",
    "    - Si la clé est supérieure, on fait la même chose avec l'arbre de droite.\n",
    "    - on renvoie le nouvel arbre ainsi créé."
   ]
  },
  {
   "cell_type": "code",
   "execution_count": 9,
   "metadata": {},
   "outputs": [
    {
     "name": "stdout",
     "output_type": "stream",
     "text": [
      "[0, 2, 3, 5, 6, 7, 8]\n",
      "[0, 2, 3, 4, 5, 6, 7, 8]\n"
     ]
    }
   ],
   "source": [
    "def insertion(arbre, valeur):\n",
    "    if arbre is None:\n",
    "         return Arbre(valeur)\n",
    "    if valeur < arbre.data:\n",
    "        arbre.left = insertion(arbre.left, valeur)\n",
    "    else:\n",
    "        arbre.right = insertion(arbre.right, valeur)\n",
    "    return arbre\n",
    "\n",
    "print(infixe(a))\n",
    "insertion(a, 4)\n",
    "print(infixe(a))"
   ]
  },
  {
   "cell_type": "markdown",
   "metadata": {},
   "source": [
    "**Exemple :** Nous allons insérer la valeur 4 dans l'arbre ```a``` et vérifier par un parcours infixe (avant et après l'insertion) que la valeur 4 a bien été insérée au bon endroit.\n",
    "\n",
    "![](img/insertionABR.png)"
   ]
  },
  {
   "cell_type": "code",
   "execution_count": 10,
   "metadata": {},
   "outputs": [],
   "source": [
    "a = Arbre(5)\n",
    "a.left = Arbre(2)\n",
    "a.right = Arbre(7)\n",
    "a.left.left = Arbre(0)\n",
    "a.left.right = Arbre(3)\n",
    "a.right.left = Arbre(6)\n",
    "a.right.right = Arbre(8)"
   ]
  },
  {
   "cell_type": "code",
   "execution_count": 11,
   "metadata": {},
   "outputs": [
    {
     "data": {
      "text/plain": [
       "[0, 2, 3, 5, 6, 7, 8]"
      ]
     },
     "execution_count": 11,
     "metadata": {},
     "output_type": "execute_result"
    }
   ],
   "source": [
    "infixe(a)"
   ]
  },
  {
   "cell_type": "code",
   "execution_count": 12,
   "metadata": {},
   "outputs": [
    {
     "data": {
      "text/plain": [
       "<__main__.Arbre at 0x1eb5a55e308>"
      ]
     },
     "execution_count": 12,
     "metadata": {},
     "output_type": "execute_result"
    }
   ],
   "source": [
    "insertion(a,4)"
   ]
  },
  {
   "cell_type": "code",
   "execution_count": 13,
   "metadata": {},
   "outputs": [
    {
     "data": {
      "text/plain": [
       "[0, 2, 3, 4, 5, 6, 7, 8]"
      ]
     },
     "execution_count": 13,
     "metadata": {},
     "output_type": "execute_result"
    }
   ],
   "source": [
    "infixe(a)"
   ]
  },
  {
   "cell_type": "markdown",
   "metadata": {},
   "source": [
    "La valeur 4 a donc bien été insérée au bon endroit."
   ]
  }
 ],
 "metadata": {
  "kernelspec": {
   "display_name": "Python 3",
   "language": "python",
   "name": "python3"
  },
  "language_info": {
   "codemirror_mode": {
    "name": "ipython",
    "version": 3
   },
   "file_extension": ".py",
   "mimetype": "text/x-python",
   "name": "python",
   "nbconvert_exporter": "python",
   "pygments_lexer": "ipython3",
   "version": "3.7.4"
  },
  "toc": {
   "base_numbering": 1,
   "nav_menu": {},
   "number_sections": true,
   "sideBar": true,
   "skip_h1_title": false,
   "title_cell": "Table of Contents",
   "title_sidebar": "Contents",
   "toc_cell": false,
   "toc_position": {},
   "toc_section_display": true,
   "toc_window_display": false
  }
 },
 "nbformat": 4,
 "nbformat_minor": 2
}
