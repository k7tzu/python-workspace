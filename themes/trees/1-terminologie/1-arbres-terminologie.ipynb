{
 "cells": [
  {
   "cell_type": "markdown",
   "metadata": {},
   "source": [
    "**Terminale NSI**\n",
    "<div class=\"bg-info\"><h1>Chapitre 8 - Les arbres</h1></div>\n",
    "\n",
    "<div class=\"bg-default\"><h2>Séance 1 - Terminologie</h2></div>"
   ]
  },
  {
   "cell_type": "markdown",
   "metadata": {},
   "source": [
    "## 1. Vocabulaire\n",
    "Un arbre est une structure hiérarchique de données, composée de nœuds. Si on adopte le vocabulaire des graphes (qui seront vus plus tard dans l'année), un arbre est un graphe non orienté, connexe, sans cycle, et dans lequel un nœud joue le rôle de racine.\n",
    "\n",
    "![](img/term.png) \n"
   ]
  },
  {
   "cell_type": "markdown",
   "metadata": {},
   "source": [
    "- Chaque **nœud** a exactement un seul **nœud père**, à l'exception du nœud **racine** qui est le seul nœud à ne pas avoir de père. (oui, **la** racine d'une arbre est **en haut**)  \n",
    "- Chaque nœud peut avoir un nombre quelconque de **fils**, dont il est le père.\n",
    "- Les nœuds qui n'ont pas de fils sont appelés les **feuilles** (ou nœuds externes).\n",
    "- Les nœuds qui ne sont pas des feuilles sont des **nœuds internes**.\n",
    "- Le nom de chaque nœud est appelé son **étiquette**.\n",
    "\n",
    "**Exemples :**\n",
    "dans l'arbre ci-dessus,\n",
    "- C est la racine, E, Z A et G sont les feuilles.\n",
    "- K est le père de A et G.\n",
    "- F est le père de Z.\n",
    "- C est le père de B et K\n",
    "- B est le père de E et F."
   ]
  },
  {
   "cell_type": "markdown",
   "metadata": {},
   "source": [
    "## 2. Exemples d'arbres\n",
    "\n",
    "### La famille Simpson\n",
    "<img src=\"img/simpsons.png\" width='60%' />\n",
    "\n",
    "### Le DOM d'une page web\n",
    "DOM : Document Object Model\n",
    "<img src=\"img/dom.svg\" width='40%' />\n",
    "\n",
    "### L'arborescence d'un disque dur\n",
    "Les systèmes Unix (MacOS ou GNU/Linux) organisent leur disque dur suivant l'arborescence ci-dessous :\n",
    "<img src=\"img/arbo-unix.gif\" width='40%' />\n"
   ]
  },
  {
   "cell_type": "markdown",
   "metadata": {},
   "source": [
    "## 3. Caractéristiques d'un arbre (Outils numériques de description)\n",
    "\n",
    "![](img/carac.png)\n"
   ]
  },
  {
   "cell_type": "markdown",
   "metadata": {},
   "source": [
    "- la **taille** d'un arbre est son nombre total de nœuds. Ici, elle vaut 8.\n",
    "\n",
    "\n",
    "- l'**arité** (ou le **degré**) d'un nœud est son nombre de fils. Ici, l'arité de B vaut 2, celle de F vaut 1, celle de Z vaut 0.\n",
    "\n",
    "\n",
    "- la **profondeur** d'un nœud est le nombre de nœuds de son chemin le plus court vers la racine. \n",
    "Ici, la profondeur de G est 3 (G-K-C), la profondeur de B est 2 (B-C), la profondeur de Z est 4 (Z-F-B-C), la profondeur de C est 1.\n",
    "\n",
    "\n",
    "- la **hauteur** d'un arbre est la profondeur de son nœud le plus profond. \n",
    "Ici, la hauteur de l'arbre est 4.\n",
    "Nous prendrons comme **convention** que :\n",
    "- si un arbre est réduit à **un seul nœud-racine**, sa hauteur sera **1**.\n",
    "- si un arbre est **vide**, sa hauteur est **0**.\n",
    "\n",
    "*Cette convention est celle adoptée dans le sujet 0 publié le 15/12/2020. Attention, dans certains ouvrages, l'arbre vide a pour hauteur -1, et donc l'arbre réduit à un seul nœud a pour hauteur 0, donc notre arbre a une hauteur 3.*"
   ]
  },
  {
   "cell_type": "markdown",
   "metadata": {},
   "source": [
    "## 4. Encore du vocabulaire\n",
    "\n",
    "### Arbres binaires\n",
    "Un arbre binaire est un arbre dont chaque nœud possède **au plus** deux fils.\n",
    "\n",
    "L'arbre généalogique de la famille Simpson n'est pas un arbre binaire. \n",
    "\n",
    "L'arbre ci-dessous est lui un arbre binaire.\n",
    "\n",
    "![](img/carac3.png)\n",
    "\n",
    "### Sous-arbres d'un arbre binaire\n",
    "\n",
    "Chaque nœud d'un arbre binaire ne pouvant pas avoir plus de 2 fils, il est possible de séparer le «dessous» de chaque nœud en deux sous-arbres (éventuellement vides) : le **sous-arbre gauche** et le **sous-arbre droit**.\n",
    "\n",
    "![](img/sousarbres.png)\n",
    "\n",
    "\n",
    "- Les deux sous-arbres représentés ici sont les sous-arbres du nœud-racine T. \n",
    "- Le nœud O admet comme sous-arbre gauche le nœud H et comme sous-arbre droit le nœud N.\n",
    "- Les feuilles P, H et N ont pour sous-arbre gauche et pour sous-arbre droit l'**arbre vide**.\n",
    "\n"
   ]
  },
  {
   "cell_type": "markdown",
   "metadata": {},
   "source": [
    "### Cas des arbres binaires complets\n",
    "\n",
    "On rencontre très souvent des arbres binaires dits **complets** parce qu'aucun des fils gauche ou droit n'est manquant.\n",
    "\n",
    "![](img/complet.png)  \n",
    "    \n",
    "\n",
    "**Taille d'un arbre complet de hauteur $h$ :**\n",
    "$$1 + 2 + 2^2 + 2^3 + \\dots + 2^{h-1} = 2^{h} - 1$$\n",
    "\n",
    "*Preuve* : ceci est la somme $S$ des $h$ premiers termes d'une suite géométrique de raison 2 et de premier terme 1, d'où $S= \\frac{1-2^{h}}{1-2} = 2^{h} -1$.\n",
    "\n",
    "\n",
    "Un arbre complet de hauteur $h$ (en prenant la convention que l'arbre vide a pour hauteur 0) a donc une taille égale à $2^{h}-1$.\n",
    "\n",
    "**Remarque :** On en déduit une inégalité classique sur l'encadrement de la taille $t$ d'un arbre binaire (non nécessairement complet) de hauteur $h$ :\n",
    "$$ h \\leqslant t \\leqslant 2^{h}-1$$"
   ]
  }
 ],
 "metadata": {
  "kernelspec": {
   "display_name": "Python 3",
   "language": "python",
   "name": "python3"
  },
  "language_info": {
   "codemirror_mode": {
    "name": "ipython",
    "version": 3
   },
   "file_extension": ".py",
   "mimetype": "text/x-python",
   "name": "python",
   "nbconvert_exporter": "python",
   "pygments_lexer": "ipython3",
   "version": "3.7.4"
  },
  "toc": {
   "base_numbering": 1,
   "nav_menu": {},
   "number_sections": true,
   "sideBar": true,
   "skip_h1_title": false,
   "title_cell": "Table of Contents",
   "title_sidebar": "Contents",
   "toc_cell": false,
   "toc_position": {},
   "toc_section_display": true,
   "toc_window_display": false
  }
 },
 "nbformat": 4,
 "nbformat_minor": 2
}
