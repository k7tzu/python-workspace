{
 "cells": [
  {
   "cell_type": "markdown",
   "metadata": {},
   "source": [
    "**Terminale NSI**\n",
    "<div class=\"bg-info\"><h1>Chapitre 13 - Recherche textuelle</h1></div>\n",
    "\n",
    "# 1. Recherche naïve\n",
    "![image](img/gif_naive.gif)\n",
    "\n",
    "## 1.1 Premier algorithme"
   ]
  },
  {
   "cell_type": "code",
   "execution_count": 1,
   "metadata": {},
   "outputs": [],
   "source": [
    "def recherche_naive(texte, motif):\n",
    "    '''\n",
    "    renvoie la liste des indices (éventuellement vide) des occurrences de\n",
    "    de la chaîne motif dans la chaîne texte.\n",
    "    '''\n",
    "    indices = []\n",
    "    i = 0\n",
    "    while i <= len(texte) - len(motif):\n",
    "        k = 0\n",
    "        while k < len(motif) and texte[i+k] == motif[k]:\n",
    "            k += 1\n",
    "        if k == len(motif):\n",
    "            indices.append(i)\n",
    "        i += 1\n",
    "    return indices"
   ]
  },
  {
   "cell_type": "code",
   "execution_count": 2,
   "metadata": {},
   "outputs": [
    {
     "name": "stdout",
     "output_type": "stream",
     "text": [
      "[15]\n",
      "[]\n",
      "[4, 15]\n"
     ]
    }
   ],
   "source": [
    "print(recherche_naive(\"une magnifique maison bleue\", \"maison\")) # -> 15\n",
    "print(recherche_naive(\"une magnifique maison bleue\", \"nsi\")) # -> []\n",
    "print(recherche_naive(\"une magnifique maison bleue\", \"ma\")) # -> [4, 15]"
   ]
  },
  {
   "cell_type": "markdown",
   "metadata": {},
   "source": [
    "## 1.2 Modification de l'algorithme\n",
    "## Exercice 1\n",
    "Re-écrire l'algorithme précédent en s'arrêtant dès qu'une occurrence de motif est trouvée dans texte.  \n",
    "La fonction renverra uniquement un booléen.    "
   ]
  },
  {
   "cell_type": "code",
   "execution_count": null,
   "metadata": {},
   "outputs": [],
   "source": []
  },
  {
   "cell_type": "code",
   "execution_count": null,
   "metadata": {},
   "outputs": [],
   "source": []
  },
  {
   "cell_type": "markdown",
   "metadata": {},
   "source": [
    "## 1.3 Application à la recherche d'un motif dans un roman\n",
    "Le Projet Gutenberg permet de télécharger légalement des ouvrages libres de droits dans différents formats.  \n",
    "Nous allons travailler avec le Tome 1 du roman Les Misérables de Victor Hugo au format txt.  \n",
    "## 1.3.1 Récupération du texte dans une seule chaîne de caractères\n",
    "```Python\n",
    "with open(\"Les_Miserables.txt\") as f:\n",
    "    roman = f.read().replace('\\n', ' ')\n",
    "```\n",
    "## 1.3.2 Vérification et mesure du temps de recherche\n",
    "## Exercice 2\n",
    "A l'aide du module `time`, mesurer le temps de recherche dans Les Misérables d'un mot court, d'une longue phrase (présente dans le texte), d'un mot qui n'existe pas. Que remarquez-vous ?      "
   ]
  },
  {
   "cell_type": "code",
   "execution_count": null,
   "metadata": {},
   "outputs": [],
   "source": [
    "with open(\"img/Les_Miserables.txt\") as f:\n",
    "    roman = f.read().replace('\\n', ' ')"
   ]
  },
  {
   "cell_type": "code",
   "execution_count": null,
   "metadata": {},
   "outputs": [],
   "source": []
  },
  {
   "cell_type": "markdown",
   "metadata": {},
   "source": [
    "# 2. Vers l'algorithme de Boyer-Moore : et si on partait à l'envers ?\n",
    "## Exercice 3\n",
    "Re-écrire l'algorithme de recherche naïve mais en démarrant de la fin du motif et non du début. Certes, c'est pour l'instant très artificiel, mais c'est un outil qui nous servira plus tard."
   ]
  },
  {
   "cell_type": "code",
   "execution_count": null,
   "metadata": {},
   "outputs": [],
   "source": [
    "def reverse(texte, motif):\n",
    "    indices = []\n",
    "    i = 0\n",
    "    while i <= len(texte) - len(motif):\n",
    "        k = len(motif)-1\n",
    "        while k >= 0 and texte[i+k] == motif[k]:\n",
    "            k -= 1\n",
    "        if k == -1:\n",
    "            indices.append(i)\n",
    "        i += 1\n",
    "    return indices"
   ]
  },
  {
   "cell_type": "code",
   "execution_count": null,
   "metadata": {},
   "outputs": [],
   "source": []
  },
  {
   "cell_type": "markdown",
   "metadata": {},
   "source": [
    "# 3. Algorithme de Boyer-Moore-Horspool\n",
    "## 3.1 Principe\n",
    "L'idée est d'améliorer le code précédent (celui où l'on parcourt le motif à l'envers) en **sautant** directement au prochain endroit potentiellement valide.\n",
    "\n",
    "Pour cela on regarde le caractère X du texte sur lequel on s'est arrêté (car X n'était pas égal au caractère de rang équivalent dans le motif):\n",
    "\n",
    "+ si X n'est pas dans le motif, il est inutile de se déplacer \"de 1\" : on retomberait tout de suite sur X, c'est du temps perdu. On se décale donc juste assez pour dépasser X, donc de la longueur du motif cherché.  \n",
    "+ si X est dans le motif (sauf à la dernière place du motif !), on va regarder la place de la dernière occurence de X dans le motif et de déplacer de ce nombre, afin de faire coïncider le X du motif et le X du texte.  \n",
    "\n",
    "![image](img/gif_BM.gif)  \n",
    "\n",
    "## 3.2 Implémentation\n",
    "On va d'abord coder une fonction `dico_lettres` qui renvoie un dictionnaire associant à chaque lettre de mot (paramètre d'entrée) son dernier rang dans le mot. On exclut la dernière lettre, qui poserait un problème lors du décalage (on décalerait de 0...)  \n",
    "## Algorithme de Boyer-Moore-Horspool "
   ]
  },
  {
   "cell_type": "code",
   "execution_count": 6,
   "metadata": {},
   "outputs": [],
   "source": [
    "def dico_lettres(mot):\n",
    "    d = {}\n",
    "    for i in range(len(mot)-1):\n",
    "        d[mot[i]] = i\n",
    "    return d\n",
    "\n",
    "def BMH(texte, motif):\n",
    "    dico = dico_lettres(motif)\n",
    "    indices = []\n",
    "    i = 0\n",
    "    while i <= len(texte) - len(motif):\n",
    "        k = len(motif)-1\n",
    "        while k >= 0 and texte[i+k] == motif[k]: # On remonte le motif à l'envers, tant qu'il y a correspondance et qu'on n'est pas arrivés au début du motif\n",
    "            k -= 1\n",
    "        if k == -1: # Si on est arrivés à la valeur k=-1, c'est qu'on a parcouru tout le mot : on l'a donc trouvé.\n",
    "            indices.append(i)\n",
    "            i += 1 # On a trouvé le motif, mais attention, il ne faut pas trop se décaler sinon on pourrait rater d'autres occurences du motif (pensez à la recherche du motif «mama» dans le mot «mamamamama»). On se décale donc de 1.\n",
    "        else:\n",
    "            if texte[i+k] in dico: # On s'est arrêté avant la fin, sur une lettre présente dans le mot : il va falloir faire un décalage intelligent.\n",
    "                i += len(motif) - dico[texte[i+k]] - 1 # On décale juste de ce qu'il faut pour mettre en correspondance les lettres.\n",
    "            else:\n",
    "                i += len(motif) # La lettre n'est pas dans le motif : on se positionne juste après elle en se décalant de toute la longueur du motif.\n",
    "\n",
    "    return indices"
   ]
  },
  {
   "cell_type": "code",
   "execution_count": 7,
   "metadata": {},
   "outputs": [
    {
     "name": "stdout",
     "output_type": "stream",
     "text": [
      "[15]\n",
      "[]\n",
      "[4, 15]\n",
      "[0, 2, 4, 6]\n"
     ]
    }
   ],
   "source": [
    "print(BMH(\"une magnifique maison bleue\", \"maison\")) # ->[15]\n",
    "print(BMH(\"une magnifique maison bleue\", \"nsi\")) # ->[]\n",
    "print(BMH(\"une magnifique maison bleue\", \"ma\")) # ->[4, 15]\n",
    "print(BMH(\"mamamamama\",\"mama\")) # ->[0, 2, 4, 6]"
   ]
  },
  {
   "cell_type": "markdown",
   "metadata": {},
   "source": [
    "## Exercice 4\n",
    "Reprendre les mesures effectuées sur Les Misérables, mais cette fois avec l'algorithme BMH. Que remarquez-vous ?"
   ]
  },
  {
   "cell_type": "code",
   "execution_count": null,
   "metadata": {},
   "outputs": [],
   "source": []
  },
  {
   "cell_type": "code",
   "execution_count": null,
   "metadata": {},
   "outputs": [],
   "source": []
  }
 ],
 "metadata": {
  "kernelspec": {
   "display_name": "Python 3",
   "language": "python",
   "name": "python3"
  },
  "language_info": {
   "codemirror_mode": {
    "name": "ipython",
    "version": 3
   },
   "file_extension": ".py",
   "mimetype": "text/x-python",
   "name": "python",
   "nbconvert_exporter": "python",
   "pygments_lexer": "ipython3",
   "version": "3.7.4"
  }
 },
 "nbformat": 4,
 "nbformat_minor": 5
}
