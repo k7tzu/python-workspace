{
 "cells": [
  {
   "cell_type": "markdown",
   "metadata": {},
   "source": [
    "**Terminale NSI**\n",
    "<div class=\"bg-info\"><h1>Chapitre 12 - Programmation dynamique</h1></div>\n",
    "\n",
    "## 0. Suite de Fibonacci\n",
    "Reprenons l'exemple de la **suite de Fibonacci** (vu dans le cours consacré à la **récursivité**) qui est définie sur $\\mathbb{N}$ par :\n",
    " \n",
    "&emsp; &emsp; $\n",
    "\\left\\{\n",
    "          \\begin{array}{lll}\n",
    "            u_0 = 0 \\\\\n",
    "            u_1 = 1 \\\\\n",
    "            u_n = u_{n - 1} + u_{n - 2} \\\\\n",
    "          \\end{array}\n",
    "\\right.\n",
    "$   \n",
    "  \n",
    "Ce qui nous donne pour les 6 premiers termes de la suite de Fibonacci :  \n",
    "$u_0 = 0$  \n",
    "$u_1 = 1$   \n",
    "$u_2 = u_1 + u_0 = 1 + 0 = 1$  \n",
    "$u_3 = u_2 + u_1 = 1 + 1 = 2$  \n",
    "$u_4 = u_3 + u_2 = 2 + 1 = 3$  \n",
    "$u_5 = u_4 + u_3 = 3 + 2 = 5$  \n",
    "$u_6 = u_5 + u_4 = 5 + 3 = 8$  \n",
    "\n",
    "### Question 1\n",
    "Définir la fonction récursive `fibo` qui donne le n-ième terme de la suite de Fibonacci.  "
   ]
  },
  {
   "cell_type": "code",
   "execution_count": 1,
   "metadata": {},
   "outputs": [],
   "source": [
    "def fibo(n):\n",
    "    if n < 2:\n",
    "        return n\n",
    "    else:\n",
    "        return fibo(n - 1) + fibo(n - 2)"
   ]
  },
  {
   "cell_type": "code",
   "execution_count": null,
   "metadata": {},
   "outputs": [],
   "source": []
  },
  {
   "cell_type": "markdown",
   "metadata": {},
   "source": [
    "### Question 2\n",
    "Ajouter dans la fonction `fibo` un compteur `cpt_appels` permettant de compter le **nombre d'appels récursifs** effectués lors de l'exécution de la fonction."
   ]
  },
  {
   "cell_type": "code",
   "execution_count": 2,
   "metadata": {},
   "outputs": [
    {
     "name": "stdout",
     "output_type": "stream",
     "text": [
      "appel n°  1  de fibo 6\n",
      "appel n°  2  de fibo 5\n",
      "appel n°  3  de fibo 4\n",
      "appel n°  4  de fibo 3\n",
      "appel n°  5  de fibo 2\n",
      "appel n°  6  de fibo 1\n",
      "appel n°  7  de fibo 0\n",
      "appel n°  8  de fibo 1\n",
      "appel n°  9  de fibo 2\n",
      "appel n°  10  de fibo 1\n",
      "appel n°  11  de fibo 0\n",
      "appel n°  12  de fibo 3\n",
      "appel n°  13  de fibo 2\n",
      "appel n°  14  de fibo 1\n",
      "appel n°  15  de fibo 0\n",
      "appel n°  16  de fibo 1\n",
      "appel n°  17  de fibo 4\n",
      "appel n°  18  de fibo 3\n",
      "appel n°  19  de fibo 2\n",
      "appel n°  20  de fibo 1\n",
      "appel n°  21  de fibo 0\n",
      "appel n°  22  de fibo 1\n",
      "appel n°  23  de fibo 2\n",
      "appel n°  24  de fibo 1\n",
      "appel n°  25  de fibo 0\n",
      "8\n",
      "25\n"
     ]
    }
   ],
   "source": [
    "cpt_appels = 0\n",
    "\n",
    "def fibo(n):\n",
    "    global cpt_appels\n",
    "    cpt_appels += 1\n",
    "    print(\"appel n° \", cpt_appels, \" de fibo\", n)\n",
    "    if n < 2:\n",
    "        return n\n",
    "    else:\n",
    "        return fibo(n - 1) + fibo(n - 2)\n",
    "    \n",
    "print(fibo(6))\n",
    "print(cpt_appels)"
   ]
  },
  {
   "cell_type": "code",
   "execution_count": null,
   "metadata": {},
   "outputs": [],
   "source": []
  },
  {
   "cell_type": "markdown",
   "metadata": {},
   "source": [
    "Pour n=6, il est possible d'illustrer le fonctionnement de ce programme avec le schéma ci-dessous :  \n",
    "<img src=\"img/fibo6.png\" width=750>  \n",
    "\n",
    "En additionnant les résultats de toutes les feuilles on trouve bien 8.  \n",
    "\n",
    "En y regardant de plus près, on remarque que **de nombreux calculs sont effectués plusieurs fois**, comme le calcul de fib(4).  \n",
    "<img src=\"img/fibo4.png\" width=800>  \n",
    "\n",
    "Le calcul pourrait être simplifié en **mémorisant** la valeur de fib(4) pour la réutiliser.  \n",
    "\n",
    "Une solution possible consiste donc à garder en mémoire les termes de la suite déjà calculés. Cette technique de **mémoïsation** (procédé où on garde en mémoire les valeurs déjà calculées) peut par exemple être traitée en créant un tableau ou un dictionnaire qui **stocke** ces valeurs, ainsi qu'une fonction locale :"
   ]
  },
  {
   "cell_type": "code",
   "execution_count": 2,
   "metadata": {},
   "outputs": [
    {
     "data": {
      "text/plain": [
       "75025"
      ]
     },
     "execution_count": 2,
     "metadata": {},
     "output_type": "execute_result"
    }
   ],
   "source": [
    "def fibo_dynamique(n):\n",
    "    tab_memo = [0] * (n+1)  # permet de créer un tableau contenant n+1 zéro\n",
    "    \n",
    "    def fib(n):\n",
    "        if n == 0 or n == 1:\n",
    "            tab_memo[n] = n\n",
    "            return n\n",
    "        elif tab_memo[n] > 0:\n",
    "            return tab_memo[n]\n",
    "        else:\n",
    "            tab_memo[n] = fib(n-1) + fib(n-2)\n",
    "            return tab_memo[n]\n",
    "    return fib(n)\n",
    "\n",
    "fibo_dynamique(25)    "
   ]
  },
  {
   "cell_type": "code",
   "execution_count": 3,
   "metadata": {},
   "outputs": [
    {
     "name": "stdout",
     "output_type": "stream",
     "text": [
      "[0, 0, 0, 0, 0, 0, 0]\n",
      "appel n° 1  de fibo 6\n",
      "appel n° 2  de fibo 5\n",
      "appel n° 3  de fibo 4\n",
      "appel n° 4  de fibo 3\n",
      "appel n° 5  de fibo 2\n",
      "appel n° 6  de fibo 1\n",
      "[0, 1, 0, 0, 0, 0, 0]\n",
      "appel n° 7  de fibo 0\n",
      "[0, 1, 0, 0, 0, 0, 0]\n",
      "[0, 1, 1, 0, 0, 0, 0]\n",
      "appel n° 8  de fibo 1\n",
      "[0, 1, 1, 0, 0, 0, 0]\n",
      "[0, 1, 1, 2, 0, 0, 0]\n",
      "appel n° 9  de fibo 2\n",
      "[0, 1, 1, 2, 0, 0, 0]\n",
      "[0, 1, 1, 2, 3, 0, 0]\n",
      "appel n° 10  de fibo 3\n",
      "[0, 1, 1, 2, 3, 0, 0]\n",
      "[0, 1, 1, 2, 3, 5, 0]\n",
      "appel n° 11  de fibo 4\n",
      "[0, 1, 1, 2, 3, 5, 0]\n",
      "[0, 1, 1, 2, 3, 5, 8]\n"
     ]
    },
    {
     "data": {
      "text/plain": [
       "8"
      ]
     },
     "execution_count": 3,
     "metadata": {},
     "output_type": "execute_result"
    }
   ],
   "source": [
    "# avec un compteur d'appels récursifs\n",
    "cpt_appels = 0\n",
    "def fibo_dynamique(n):\n",
    "    tab_memo = [0]*(n+1)  # permet de créer un tableau contenant n+1 zéro\n",
    "    print(tab_memo)\n",
    "    def fib(n):\n",
    "        global cpt_appels\n",
    "        cpt_appels += 1\n",
    "        print(\"appel n°\", cpt_appels,\" de fibo\", n)\n",
    "        if n==0 or n==1:\n",
    "            tab_memo[n] = n\n",
    "            print(tab_memo)\n",
    "            return n\n",
    "        elif tab_memo[n]>0:\n",
    "            print(tab_memo)\n",
    "            return tab_memo[n]\n",
    "        else:\n",
    "            tab_memo[n] = fib(n-1) + fib(n-2)\n",
    "            print(tab_memo)\n",
    "            return tab_memo[n]\n",
    "    \n",
    "    return fib(n)\n",
    "\n",
    "fibo_dynamique(6)"
   ]
  },
  {
   "cell_type": "markdown",
   "metadata": {},
   "source": [
    "L'arbre des appels est maintenant beaucoup plus simple car tous les appels indiqués en orange ont déjà été calculés et leur valeur est immédiatement disponible. Nous bénéficions ainsi de performances bien meilleures.  \n",
    "<img src=\"img/fiborange.png\" width=650>  "
   ]
  },
  {
   "cell_type": "markdown",
   "metadata": {},
   "source": [
    "## 1. Programmation dynamique\n",
    "De l'approche **diviser pour régner** (DR) appliquée sur les exemples de tri fusion ou de la recherche dichotomique, nous avons utilisé comme outils la **récursivité** et la création de sous-problèmes **indépendants** dont la résolution permet de traiter le problème initial.  \n",
    "\n",
    "Cette approche est améliorée par la technique de la **mémoïsation**. Dans l'approche de la **programmation dynamique** (DP), les sous-problèmes se recoupent parfois et sont réutilisés dans la résolution de plusieurs problèmes différents.\n",
    "\n",
    "En résumé, on peut résoudre un problème de manière dynamique si :  \n",
    "* le problème peut être résolu à partir de sous-problèmes similaires mais plus petits,  \n",
    "* l’ensemble de ces sous-problèmes est discret, c’est-à-dire qu’on peut les indexer et ranger les résultats dans un tableau,  \n",
    "* la solution optimale au problème posé s’obtient à partir des solutions optimales des sous-problèmes,  \n",
    "* les sous-problèmes ne sont pas indépendants et un traitement récursif fait apparaître les mêmes sous-problèmes un grand nombre de fois. "
   ]
  },
  {
   "cell_type": "markdown",
   "metadata": {},
   "source": [
    "## 2. Démarche \"bas vers haut\"\n",
    "Avec notre approche précédente **Top Down** (haut vers bas), nous avons construit notre mémoire cache `tab_memo` de façon récursive en partant de notre n initial et en décrémentant jusqu'à 0.  \n",
    "La différence est qu'avec une approche **Bottom Up**, on va remplir cette fois notre mémoire cache de façon itérative en partant de la plus petite valeur possible, c'est-à-dire 0, jusqu'à n.  \n",
    "*Dans une forme itérative Bottum Up, on résout d'abord les sous-problèmes de \"petite taille\", puis ceux de taille intermédiare... jusqu'à la taille voulue. On stocke les résultats partiels dans un tableau ou un dictionnaire comme dans la mémoïsation.*"
   ]
  },
  {
   "cell_type": "code",
   "execution_count": null,
   "metadata": {},
   "outputs": [],
   "source": [
    "def fibo_bottom_up(n):\n",
    "    tab_memo = [0] * (n+1)\n",
    "    tab_memo[1] = 1\n",
    "    for i in range(2, n+1):\n",
    "        tab_memo[i] = tab_memo[i - 1] + tab_memo[i - 2]\n",
    "    return tab_memo[i]\n",
    "\n",
    "fibo_bottom_up(6)"
   ]
  },
  {
   "cell_type": "code",
   "execution_count": null,
   "metadata": {},
   "outputs": [],
   "source": [
    "# affichages successifs correspondant au remplissage de tab_memo\n",
    "def fibo_bottom_up(n):\n",
    "    tab_memo = [0] * (n+1)\n",
    "    tab_memo[1] = 1\n",
    "    for i in range(2, n+1):\n",
    "        tab_memo[i] = tab_memo[i - 1] + tab_memo[i - 2]\n",
    "        print (tab_memo)\n",
    "    return tab_memo[i]\n",
    "\n",
    "fibo_bottom_up(6)    \n",
    "    "
   ]
  },
  {
   "cell_type": "code",
   "execution_count": 5,
   "metadata": {},
   "outputs": [
    {
     "name": "stdout",
     "output_type": "stream",
     "text": [
      "{1: 1, 2: 1, 3: 2, 4: 3, 5: 5, 6: 8}\n"
     ]
    },
    {
     "data": {
      "text/plain": [
       "8"
      ]
     },
     "execution_count": 5,
     "metadata": {},
     "output_type": "execute_result"
    }
   ],
   "source": [
    "# on peut utiliser un dictionnaire pour stocker au fur et à mesure les valeurs\n",
    "def fibonnaci(n):\n",
    "    d = {}\n",
    "    d[1] = 1\n",
    "    d[2] = 1\n",
    "    for k in range(3, n+1):\n",
    "        d[k] = d[k-1] + d[k-2]\n",
    "    print(d)\n",
    "    return d[n]\n",
    "fibonnaci(6)"
   ]
  },
  {
   "cell_type": "markdown",
   "metadata": {},
   "source": [
    "## 3. Décorateur de mémoïsation\n",
    "Il existe dans Python un décorateur de mémoïsation : `lru_cache` dans le module `functools` que nous pouvons directement utiliser. Ce décorateur met en place une mémoïsation pour la fonction décorée."
   ]
  },
  {
   "cell_type": "code",
   "execution_count": null,
   "metadata": {},
   "outputs": [],
   "source": [
    "# compteur d'appels récursifs\n",
    "cpt_appels=0\n",
    "\n",
    "def fibo(n):\n",
    "    global cpt_appels\n",
    "    cpt_appels+=1\n",
    "    print(\"appel n° \", cpt_appels, \" de fibo \", n)\n",
    "    if n<2:\n",
    "        return n\n",
    "    else:\n",
    "        return fibo(n-1)+fibo(n-2)\n",
    "\n",
    "print(fibo(6))\n",
    "print(cpt_appels)"
   ]
  },
  {
   "cell_type": "code",
   "execution_count": null,
   "metadata": {},
   "outputs": [],
   "source": [
    "from functools import lru_cache\n",
    "cpt_appels=0\n",
    "@lru_cache(maxsize=None)\n",
    "def fibo(n):\n",
    "    global cpt_appels\n",
    "    cpt_appels+=1\n",
    "    print(\"appel n° \", cpt_appels, \" de fibo \", n)\n",
    "    if n<2:\n",
    "        return n\n",
    "    else:\n",
    "        return fibo(n-1)+fibo(n-2)\n",
    "\n",
    "print(fibo(6))\n",
    "print(cpt_appels)"
   ]
  },
  {
   "cell_type": "code",
   "execution_count": null,
   "metadata": {},
   "outputs": [],
   "source": []
  }
 ],
 "metadata": {
  "kernelspec": {
   "display_name": "base",
   "language": "python",
   "name": "python3"
  },
  "language_info": {
   "codemirror_mode": {
    "name": "ipython",
    "version": 3
   },
   "file_extension": ".py",
   "mimetype": "text/x-python",
   "name": "python",
   "nbconvert_exporter": "python",
   "pygments_lexer": "ipython3",
   "version": "3.12.9"
  }
 },
 "nbformat": 4,
 "nbformat_minor": 4
}
